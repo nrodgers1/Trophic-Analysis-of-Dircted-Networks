{
 "cells": [
  {
   "cell_type": "markdown",
   "metadata": {},
   "source": [
    "Code to look at the strcuture of a single real network using Trophic Analysis. \n",
    "\n",
    "Warning this code mixes Julia Plots and Matplotlib from Python so there is some code which may not run correctly at the end."
   ]
  },
  {
   "cell_type": "code",
   "execution_count": 1,
   "metadata": {},
   "outputs": [],
   "source": [
    "using Graphs, GraphIO, GraphPlot, Plots, SparseArrays\n",
    "\n",
    "\n"
   ]
  },
  {
   "cell_type": "code",
   "execution_count": 2,
   "metadata": {},
   "outputs": [],
   "source": [
    "using GraphPlot"
   ]
  },
  {
   "cell_type": "code",
   "execution_count": 3,
   "metadata": {},
   "outputs": [],
   "source": [
    "#gplot(g, layout=layout=circular_layout)"
   ]
  },
  {
   "cell_type": "code",
   "execution_count": null,
   "metadata": {},
   "outputs": [],
   "source": []
  },
  {
   "cell_type": "code",
   "execution_count": 4,
   "metadata": {},
   "outputs": [
    {
     "data": {
      "text/plain": [
       "get_levels (generic function with 1 method)"
      ]
     },
     "execution_count": 4,
     "metadata": {},
     "output_type": "execute_result"
    }
   ],
   "source": [
    "using LinearAlgebra, IterativeSolvers, Statistics\n",
    "#Function which calculates Trophic Level\n",
    "\n",
    "function get_levels(A)\n",
    "    \n",
    "    A= convert(Array{Float64}, A)\n",
    "    \n",
    "    w_in = vec(sum(A, dims=1))\n",
    "   \n",
    "    w_out= vec(sum(A, dims=2))\n",
    "    \n",
    "   \n",
    "    \n",
    "    u = w_in + w_out \n",
    "    \n",
    "    v= w_in - w_out \n",
    "   \n",
    "    Lambda=  diagm(u)-  A - transpose(A)\n",
    "    \n",
    "   \n",
    "    Lambda[1,1]= 0 \n",
    "    \n",
    "    #h= bicgstabl(Lambda, v, 1)\n",
    "    #h=  lsmr(Lambda, v)   \n",
    "    \n",
    "    h= Lambda \\ v\n",
    "    \n",
    "    h= h .- minimum(h)\n",
    "    \n",
    "    return h\n",
    "end"
   ]
  },
  {
   "cell_type": "code",
   "execution_count": null,
   "metadata": {},
   "outputs": [],
   "source": []
  },
  {
   "cell_type": "code",
   "execution_count": 5,
   "metadata": {},
   "outputs": [
    {
     "data": {
      "text/plain": [
       "calc_troph_incoh (generic function with 1 method)"
      ]
     },
     "execution_count": 5,
     "metadata": {},
     "output_type": "execute_result"
    }
   ],
   "source": [
    "#Function to calculate Trophic Incohrence \n",
    "\n",
    "\n",
    "function calc_troph_incoh(A)\n",
    "    \n",
    "    F=0\n",
    "\n",
    "    for (x,y,v) in zip(findnz(A)...)\n",
    "  \n",
    "    \n",
    "        F = F + v*(h[y] - h[x] -1 )^2\n",
    "        println(h[y] - h[x])\n",
    "    end\n",
    "    \n",
    "    F= F/sum(A)\n",
    "    \n",
    "end\n",
    "    \n",
    "    \n",
    "    \n",
    "    \n",
    "    "
   ]
  },
  {
   "cell_type": "code",
   "execution_count": 6,
   "metadata": {},
   "outputs": [],
   "source": [
    "using SparseArrays\n",
    "\n",
    "\n"
   ]
  },
  {
   "cell_type": "code",
   "execution_count": 7,
   "metadata": {},
   "outputs": [
    {
     "name": "stdout",
     "output_type": "stream",
     "text": [
      "\n",
      "⠀⠀⠀⠀⠀⠀⠀⠀⠀⠀⠀⠀⠀⠇⠆⠾⠇⠮⠀⠈⠸⠠⠀⠀⠀⠀⠀⠀⠀⠀⠀⠀⠀⠀⠀⠀⠀⢀⠀⠀\n",
      "⠀⠀⠀⠀⠀⠀⠀⠀⠀⠀⠀⠀⠀⠀⠀⠀⠀⠀⠀⠀⠀⠞⡅⠀⠁⠀⠀⡅⠄⠀⠀⢨⡅⠀⣽⠁⠀⠈⠀⠀\n",
      "⠀⠀⠀⠀⠀⠀⠀⠀⠀⠀⠀⠀⠀⠀⠀⠀⠀⠀⠀⠀⠀⠀⡇⠀⠀⠀⠁⠆⠃⠀⠀⢐⠁⠀⡀⠀⠀⠀⠀⠀\n",
      "⠀⠀⠀⠀⠀⠀⠀⠀⠀⠀⠀⠀⠀⠀⠀⠀⠀⠀⠀⠀⠀⣠⡇⠀⠄⠀⠀⡁⡀⠀⢀⢨⢄⠀⡈⠀⢀⠀⠀⠀\n",
      "⠀⠀⠀⡀⠀⠀⠀⠀⠀⠀⠀⠀⢰⠀⠀⢀⠀⠀⠀⢰⢀⢰⠆⠀⠀⠀⠆⠇⠇⠀⠀⠈⡃⠀⠈⡀⠀⠀⠀⠀\n",
      "⠀⠀⠀⠀⠀⠀⠀⠀⠀⠀⠀⠀⠸⠄⠀⠇⠁⠀⠀⠈⠀⢘⠀⠀⠀⠀⠀⠀⠀⠀⠀⢀⡀⠀⡈⠁⠀⠀⠀⠀\n",
      "⠀⠀⠀⠀⠀⠀⠀⠀⠀⠀⠀⠀⠀⠀⠀⠀⠀⠀⠀⠀⠀⠌⠄⠀⢐⣀⠄⠄⠤⠀⠀⠈⠈⠀⠈⠀⠀⠀⠀⠀\n",
      "⠀⠀⠀⠀⠀⠀⠀⠀⠀⠀⠀⠀⠀⠀⠀⠀⠀⠁⠀⠀⠀⣽⡅⠀⣩⣬⡅⡁⣧⠄⠀⢀⠠⠀⢠⢀⢀⢀⠀⠀\n",
      "⠀⠀⠀⠀⠀⠀⠀⠀⠀⠀⠀⠀⠀⠀⠀⠀⠠⡄⠀⠀⠀⣷⠇⠀⢉⢧⡲⡇⣿⠏⠤⠚⠀⠀⠸⠀⠷⠄⠀⠀\n",
      "⠀⠀⠀⠀⠀⠀⠀⠀⠀⠀⠀⠀⢀⡀⠀⣀⠀⣀⠀⣀⠀⣇⣄⡀⠂⣴⡅⣆⣇⣤⣤⡰⡀⣀⣠⡄⢄⢀⡀⠀\n",
      "⠀⠀⠀⠀⠀⠀⠀⠀⠀⠀⠀⠀⠀⠀⠀⠀⠀⠀⠀⠀⠀⠟⡇⠈⠔⢿⠆⡇⠓⠅⠡⢰⠠⠀⣨⣠⠅⢀⢀⠀\n",
      "⠀⠀⠀⠀⠀⠀⠀⠀⠀⠀⠀⠀⠀⠀⠀⠀⠀⠀⠀⠀⠀⠈⠁⠀⠀⠀⠁⠃⠈⡄⠀⠈⠀⠀⠀⠘⠀⠘⠀⠳\n",
      "⠀⠀⠀⠀⠀⠀⠀⠀⠀⠀⠀⠀⠀⠀⠀⠀⠀⠀⠀⠀⠀⠀⠀⠀⠀⠀⠀⠀⠀⠀⠀⠀⠀⠀⠀⠀⠀⠀⠀⢸\n",
      "⠀⠀⠀⠀⠀⠀⠀⠀⠀⠀⠀⠀⠀⠀⠀⠀⠀⠀⠀⠀⠀⠀⠀⠀⠀⠁⠀⠀⠀⠀⠀⠀⠀⠀⠀⠀⠀⠈⠀⢸\n",
      "⠀⠀⠀⠀⠀⠀⠀⠀⠀⠀⠀⠀⠀⠀⠀⠀⠀⠀⠀⠀⠀⠀⠀⠀⠀⠀⠀⠀⠀⠀⠀⠀⠀⠀⠀⠀⠀⠀⠀⢸\n",
      "⠀⠀⠀⠀⠀⠀⠀⠀⠀⠀⠀⠀⠀⠀⠀⠀⠀⠀⠀⠀⠀⠀⠀⠀⠀⠀⠀⠀⠀⠀⠀⠀⠀⠀⠀⠀⠀⠀⢀⢸\n",
      "⠀⠀⠀⠀⠀⠀⠀⠀⠀⠀⠀⠀⠀⠀⠀⠀⠀⠀⠀⠀⠀⠀⠀⠀⠀⠀⠀⠀⠀⠀⠀⢀⠀⠀⠀⠀⡀⠸⠀⠀\n",
      "⠀⠀⠀⠀⠀⠀⠀⠀⠀⠀⠀⠀⠀⠀⠀⠀⠀⠀⠀⠀⠀⠀⠀⠀⠀⠀⠀⠀⠀⠀⠀⠀⠀⠀⠀⠀⠀⠀⠀⢸\n",
      "⠀⠀⠀⠀⠀⠀⠀⠀⠀⠀⠀⠀⠀⠀⠀⠀⠀⠀⠀⠀⠀⠀⠀⠀⠀⠀⠀⠀⠀⠀⠀⠀⠀⠀⠀⠀⠀⠀⠀⠸\n",
      "⠀⠀⠀⠀⠀⠀⠀⠀⠀⠀⠀⠀⠀⠀⠀⠀⠀⠀⠀⠀⠀⠀⠀⠀⠀⠀⠀⠀⠀⠀⠀⠀⠀⠀⠀⠀⠀⠀⠀⠀0.6191883389304731\n",
      "0.7591849697759828\n",
      "0.7771420382648413\n",
      "1.108791926967907\n",
      "0.8771132577598585\n",
      "1.1721864253064882\n",
      "1.0598063567241698\n",
      "1.2588040624238603\n",
      "0.5987025006328287\n",
      "1.058836854416886\n",
      "1.0284447532524785\n",
      "0.9669611198961547\n",
      "0.8609011341874335\n",
      "0.2007995723964019\n",
      "0.8404301785106203\n",
      "0.7789465451542965\n",
      "1.0478384224537507\n",
      "0.9863547890974269\n",
      "0.7936771662713336\n",
      "0.6812970976890151\n",
      "0.8802948033887057\n",
      "0.22019324159767406\n",
      "1.091559904000899\n",
      "1.0611678028364915\n",
      "0.9996841694801677\n",
      "0.743612048315493\n",
      "0.23352262198041485\n",
      "1.03426724116814\n",
      "1.0038751400037325\n",
      "0.9423915066474087\n",
      "0.7497138838213153\n",
      "-0.03102220724836169\n",
      "1.049644016733443\n",
      "0.9881603833771193\n",
      "0.2092138382228228\n",
      "0.0\n",
      "0.12172918687807976\n",
      "0.22199883587736646\n",
      "0.9583069310197708\n",
      "0.8664311964990395\n",
      "0.1002696489992867\n",
      "0.1954849189113531\n",
      "0.8580372820204841\n",
      "0.16048246914315412\n",
      "0.1784395376320126\n",
      "0.5100894263350781\n",
      "0.2784107571270298\n",
      "0.5734839246736595\n",
      "0.0\n",
      "0.9989917873738904\n",
      "0.9685996862094829\n",
      "0.9071160528531591\n",
      "0.6510439316884844\n",
      "0.8409604149264831\n",
      "0.6199653921688387\n",
      "0.6564242071523777\n",
      "0.5282647323678318\n",
      "0.71627930710969\n",
      "0.5088710631665596\n",
      "0.4955416827838188\n",
      "0.5528343456165778\n",
      "0.5380876761352289\n",
      "0.5070654688868672\n",
      "0.628794655764947\n",
      "0.7559880249379549\n",
      "0.6135707271886536\n",
      "0.5335793858528806\n",
      "0.7290643047642337\n",
      "0.6571870608399604\n",
      "0.5881097994108274\n",
      "0.0\n",
      "1.5639542369952266\n",
      "0.6536607148063629\n",
      "0.9096887996577232\n",
      "0.7675494344113778\n",
      "0.7251525918836178\n",
      "0.9582751586386279\n",
      "0.9762322271274864\n",
      "1.307882115830552\n",
      "1.0762034466225034\n",
      "1.2588965455868149\n",
      "0.7557158604945269\n",
      "0.7162166224414463\n",
      "0.7850076918409301\n",
      "0.8535550840304698\n",
      "0.5775994478977997\n",
      "0.5642700675150589\n",
      "0.606816060866469\n",
      "0.5757938536181073\n",
      "0.6975230404961871\n",
      "0.7977926894954738\n",
      "0.7259154455712005\n",
      "0.6568381841420675\n",
      "-0.15793094375127503\n",
      "0.8115916585576379\n",
      "0.8466247206513539\n",
      "0.8436848309976047\n",
      "0.9279473386866978\n",
      "0.8341956310469756\n",
      "0.8735918773802451\n",
      "0.8353832167546786\n",
      "0.8225025925922232\n",
      "0.9999999999999999\n",
      "0.9254803781626528\n",
      "0.8830835356348928\n",
      "1.1162061023899028\n",
      "1.1341631708787614\n",
      "0.7549240608503469\n",
      "0.9429386355922051\n",
      "0.7355303916490747\n",
      "0.722201011266334\n",
      "0.779493674099093\n",
      "0.764747004617744\n",
      "0.7337247973693823\n",
      "0.7602387143353957\n",
      "0.9557236332467488\n",
      "0.8838463893224755\n",
      "0.8147691278933425\n",
      "0.22665932848251513\n",
      "0.15793094375127503\n",
      "0.0\n",
      "0.7560579466179532\n",
      "0.8290495656444724\n",
      "0.6231032048809757\n",
      "1.0571849920787428\n",
      "1.1710737116837577\n",
      "1.18853196911331\n",
      "0.9677943447874389\n",
      "1.0250870076201979\n",
      "1.0858233891922735\n",
      "0.47225266200362004\n",
      "0.6117315378559389\n",
      "0.9682502107028657\n",
      "1.197649040834224\n",
      "0.9902407968910936\n",
      "0.9769114165083528\n",
      "1.0342040793411118\n",
      "1.1101643894894808\n",
      "1.0694795331353615\n",
      "1.0417417987139865\n",
      "1.0637323849022144\n",
      "1.0504030045194737\n",
      "1.1076956673522327\n",
      "1.0929489978708837\n",
      "1.061926790622522\n",
      "1.0884407075885354\n",
      "1.2839256264998884\n",
      "1.2120483825756152\n",
      "1.1429711211464824\n",
      "0.5548613217356548\n",
      "0.18444361321982017\n",
      "0.9900079905831483\n",
      "1.2194068207145066\n",
      "1.0119985767713762\n",
      "0.9986691963886354\n",
      "1.0101929824916838\n",
      "1.1319221693697634\n",
      "1.11669824079347\n",
      "1.0367068994576971\n",
      "1.2321918183690501\n",
      "1.160314574444777\n",
      "1.091237313015644\n",
      "0.5031275136048166\n",
      "0.43439912887357646\n",
      "1.0717057187200174\n",
      "1.2599644824232223\n",
      "1.277921550912081\n",
      "0.8986824408836664\n",
      "1.0866970156255247\n",
      "0.8792887716823943\n",
      "0.8659593912996535\n",
      "0.9085053846510636\n",
      "0.9992123642807816\n",
      "1.1264057334537896\n",
      "0.9039970943687152\n",
      "1.0994820132800682\n",
      "0.9585275079266621\n",
      "0.37041770851583466\n",
      "0.14375838003331953\n",
      "1.0030368739555169\n",
      "0.9720146667071552\n",
      "1.0644079037971477\n",
      "1.0994409658908637\n",
      "1.0965010762371143\n",
      "1.0870118762864853\n",
      "1.1264081226197549\n",
      "1.075318837831733\n",
      "1.1358997808744027\n",
      "1.0819278662693104\n",
      "1.3690223476294126\n",
      "1.3869794161182711\n",
      "1.0077403060898567\n",
      "1.1957548808317149\n",
      "0.9750172565058437\n",
      "1.0323099193386027\n",
      "1.0175632498572538\n",
      "0.9865410426088921\n",
      "1.1082702294869717\n",
      "1.0930463009106783\n",
      "1.0130549595749054\n",
      "1.2085398784862584\n",
      "1.1366626345619852\n",
      "1.0675853731328524\n",
      "0.4794755737220249\n",
      "0.4107471889907848\n",
      "0.25281624523950974\n",
      "0.4524819318683053\n",
      "1.0845325216235966\n",
      "0.9815836088391391\n",
      "1.062906226874483\n",
      "0.9691545192347608\n",
      "1.0180424238226782\n",
      "0.964070509217586\n",
      "1.251164990577688\n",
      "1.2691220590665466\n",
      "0.8898829490381321\n",
      "1.0778975237799904\n",
      "1.14644491596953\n",
      "0.87048927983686\n",
      "0.8571598994541192\n",
      "0.9144525622868782\n",
      "0.8997058928055293\n",
      "0.8686836855571676\n",
      "0.9904128724352473\n",
      "1.1176062416082553\n",
      "0.9751889438589539\n",
      "0.8951976025231809\n",
      "1.090682521434534\n",
      "1.0188052775102607\n",
      "0.9497280160811278\n",
      "1.03644894491952\n",
      "1.0170552757182478\n",
      "1.003725895335507\n",
      "1.061018558168266\n",
      "1.0462718886869171\n",
      "1.0152496814385554\n",
      "1.136978868316635\n",
      "1.2372485173159218\n",
      "1.0962940119625157\n",
      "0.2815248840691731\n",
      "1.0978904120885509\n",
      "1.141853694538569\n",
      "1.1271070250572202\n",
      "1.0960848178088585\n",
      "1.1225987347748718\n",
      "1.3180836536862248\n",
      "1.2462064097619516\n",
      "0.5890193489219913\n",
      "0.4890340880417525\n",
      "0.6231032048809759\n",
      "0.9867900621679204\n",
      "0.9589650211788949\n",
      "0.9397100614151976\n",
      "1.1351949803265509\n",
      "0.9096863725146711\n",
      "0.9362002894806845\n",
      "1.1316852083920375\n",
      "1.0598079644677643\n",
      "1.158735435790145\n",
      "1.0093766975246343\n",
      "1.0358906144906477\n",
      "1.2313755334020007\n",
      "0.5023112286377671\n",
      "0.9290372619963951\n",
      "1.1200138906253998\n",
      "1.0870340009424402\n",
      "1.1220670630361562\n",
      "1.1191271733824069\n",
      "1.1096379734317778\n",
      "1.110825559139481\n",
      "1.0979449349770256\n",
      "1.200922720547455\n",
      "1.1585258780196952\n",
      "1.1045539634146029\n",
      "1.1890891466306042\n",
      "1.1495899085775236\n",
      "0.9976433536511362\n",
      "1.0549360164838952\n",
      "1.0401893470025463\n",
      "1.1156723980559708\n",
      "1.035681056720198\n",
      "1.090211470278145\n",
      "0.5021016708673174\n",
      "0.4333732861360773\n",
      "0.27544234238480225\n",
      "0.7266431608683548\n",
      "0.8210850355897414\n",
      "0.8561180976834574\n",
      "0.8531782080297082\n",
      "0.9374407157188013\n",
      "0.9349737551947563\n",
      "0.8386049980619042\n",
      "1.1256994794220065\n",
      "1.4753064366139306\n",
      "0.9231401812779054\n",
      "0.9652170102788523\n",
      "1.0872508302236854\n",
      "1.0783148607815138\n",
      "0.9396976862378672\n",
      "0.4308266230713076\n",
      "0.8479904640749566\n",
      "0.5045228147631963\n",
      "1.0299996659087995\n",
      "1.0650327280025156\n",
      "1.0620928383487662\n",
      "1.0537912241058403\n",
      "1.1014915429860546\n",
      "1.1320548115969635\n",
      "1.1741316405979103\n",
      "0.37633895110243665\n",
      "0.9933227005644327\n",
      "1.249350785415793\n",
      "1.0283557626581485\n",
      "1.0254158730043996\n",
      "1.004233634599018\n",
      "1.0108426630365956\n",
      "1.4158654323805733\n",
      "1.710938599927203\n",
      "1.0558786081995162\n",
      "0.9172614336558695\n",
      "0.9039320532731288\n",
      "0.9612247161058878\n",
      "0.9464780466245388\n",
      "0.9154558393761771\n",
      "0.9419697563421905\n",
      "1.1374546752535437\n",
      "1.0655774313292703\n",
      "0.40839037048930993\n",
      "0.33966198575806983\n",
      "0.9298643742938935\n",
      "1.5840857753180826\n",
      "1.352407106110034\n",
      "0.8785114300716512\n",
      "1.0739963489830044\n",
      "0.27620365948753056\n",
      "1.3733484179115887\n",
      "0.8778067351277699\n",
      "0.8090783503965298\n",
      "0.6511474066452547\n",
      "0.8508130932740503\n",
      "1.1061725095103805\n",
      "1.0914258400290315\n",
      "1.0604036327806698\n",
      "1.0869175497466832\n",
      "1.210525224733763\n",
      "0.5533381638938026\n",
      "0.77787965389484\n",
      "1.075393773612451\n",
      "0.914511249243892\n",
      "0.9570572425953021\n",
      "0.9260350353469404\n",
      "1.1480338712243068\n",
      "0.973533103684914\n",
      "1.0000000000000002\n",
      "1.5518489534608022\n",
      "1.4624583061694982\n",
      "1.695980928149913\n",
      "0.8981882386544393\n",
      "0.7402572949031643\n",
      "0.9399229815319599\n",
      "0.5964989148698447\n",
      "0.7307639178710608\n",
      "0.5360900003143718\n",
      "0.8479904640749565\n",
      "1.0000000000000004\n",
      "1.2166866430680396\n",
      "0.7833133569319624\n",
      "0.9001671566856038\n",
      "1.0998328433143993\n",
      "1.41300709662924\n",
      "1.3400154776027209\n",
      "0.9677480764793396\n",
      "0.9586310047584257\n",
      "0.8851394167473048\n",
      "0.9368732248781431\n",
      "1.069583029967125\n",
      "0.9750515406626716\n",
      "0.9605251647609347\n",
      "1.0845325216235968\n",
      "1.0783825218126593\n",
      "0.9318165259312714\n",
      "0.8509813895609684\n",
      "0.9867900621679198\n",
      "1.0338700629206425\n",
      "1.0373798348551557\n",
      "0.9376895098451925\n",
      "1.0490511526217934\n",
      "0.9378990676156422\n",
      "0.9949334026492829\n",
      "1.0316103679936497\n",
      "1.095068694264189\n",
      "0.5621940033551898\n",
      "0.886662574589157\n",
      "1.0210311720228864\n",
      "0.9735331036849129\n"
     ]
    },
    {
     "name": "stdout",
     "output_type": "stream",
     "text": [
      "82\n",
      "0.0\n",
      "[0, 0, 0, 0, 0, 0, 1, 0, 0, 0, 0, 0, 0, 0, 0, 0, 0, 0, 0, 0, 0, 0, 0, 0, 0, 0, 8, 5, 0, 2, 0, 6, 5, 4, 1, 6, 3, 0, 0, 1, 7, 0, 4, 18, 23, 27, 1, 1, 1, 7, 8, 12, 13, 15, 2, 26, 1, 22, 10, 10, 1, 3, 4, 5, 2, 21, 10, 4, 1, 1, 8, 19, 6, 5, 7, 5, 1, 11, 1, 2, 2, 26]\n",
      "true\n",
      "[0.09683596938193005]\n",
      "395\n",
      "[0.0, 0.03039210116440752, 0.0918757345207313, 1.554018210170397, 1.002169256709595, 0.7461411718582347, 0.9671361946158791, 0.9700760842696282, 0.8858135765805352, 0.9795652842202573, 0.9401690378869878, 0.9783776985125543, 0.9912583226750097, 0.813760915267233, 0.8882805371045801, 0.9306773796323401, 0.9846492942374322, 0.69755481287733, 0.6795977443884715, 0.347947855685406, 0.5796265248934543, 0.28455335734682463, 0.3969334259291431, 0.19793572022945244, 0.900114111021431, 0.9396133490745116, 1.4567397826533128, 1.058836854416886, 1.100221109806386, 0.8708222796750278, 0.8022748874854881, 1.0782305236181582, 1.091559904000899, 1.03426724116814, 1.049013910649489, 1.0800361178978506, 0.9583069310197708, 0.8311135618467629, 0.9735308595960642, 1.0535222009318372, 0.8580372820204841, 0.9299145259447574, 0.9989917873738904, 1.5871015867847178, 1.655829971515958, 1.813760915267233, 1.6140952286384374, 1.6870868476649565, 1.5530177308257331, 2.059354248788338, 2.0684713205092518, 2.1419629085203726, 2.0902291003895344, 1.9575192953005525, 2.052050784605006, 2.0665771605067427, 1.9425698036440806, 1.9487198034550182, 2.095285799336406, 2.176120935706709, 2.0403122630997577, 1.9932322623470349, 1.9897224904125217, 2.089412815422485, 1.978051172645884, 2.089203257652035, 1.8232542922993364, 2.0179282098560254, 1.7060277460954407, 1.3625600967836804, 2.0321689226183945, 1.9954919572740277, 1.9320336310034885, 2.4649083219124877, 2.1404397506785204, 2.006071153244791, 2.0535692215827646, 2.554018210170397, 1.8580372820204845, 2.8725166145839975, 2.7139280719528367, 3.0271023252676774]\n"
     ]
    }
   ],
   "source": [
    "using LinearAlgebra\n",
    "using Arpack\n",
    "\n",
    "\n",
    "#Data lists and initialising variables.\n",
    "N=500\n",
    "\n",
    "\n",
    "\n",
    "F_list = zeros(0)\n",
    "\n",
    "num_diff_list= zeros(0)\n",
    "\n",
    "\n",
    "\n",
    "eig_list= zeros(0)\n",
    "\n",
    "eig_list_num_abs = zeros(0)\n",
    "\n",
    "h_max_list= zeros(0)\n",
    "entropy= zeros(0)\n",
    "ipr= zeros(0)\n",
    "\n",
    "entropy_list=zeros(0)\n",
    "nu_normal_list= zeros(0)\n",
    "\n",
    "ipr_list= zeros(0)\n",
    "\n",
    "scale_spec_list = zeros(0)\n",
    "\n",
    "nu_normal_list= zeros(0)\n",
    "eigs_vecs =(0,0)\n",
    "h=zeros(0)\n",
    "diffs= zeros(0)\n",
    "\n",
    "A= zeros(0,0)\n",
    "\n",
    "#stop = 5\n",
    "\n",
    "\n",
    "#f=open(\"net_celegans_neural.dat\")\n",
    "#net_moreno_highschool.dat\n",
    "#Ythan96.dat\n",
    "#el_verde.dat\n",
    "\n",
    "\n",
    "#Loading the graph. This may be different depending on your path to the graph file and type. \n",
    "\n",
    "#Can also use generated graphs \n",
    "g = loadgraph(\"Ythan96.dat\", \"SimpleDiGraph\", EdgeListFormat())\n",
    "#g= path_digraph(1000)  \n",
    "#g= erdos_renyi(1000, 10*1000, is_directed=true)\n",
    "#add_edge!(g, 2, 1 )\n",
    "#add_edge!(g, 1000, 999 )\n",
    "\n",
    "#g =watts_strogatz(1000, 5, 0.95, is_directed = true)\n",
    "\n",
    "\n",
    "\n",
    "#g = cycle_digraph(20)\n",
    "\n",
    "#g= barabasi_albert(100, (10), 3, is_directed=true )\n",
    "\n",
    "#barabasi_albert!(g, 1000, 20) \n",
    "\n",
    "N=nv(g)    \n",
    "A = (adjacency_matrix(g))\n",
    "print(A)    \n",
    "L=sum(A)\n",
    "    \n",
    "\n",
    "    \n",
    "\n",
    "        \n",
    "    \n",
    "    \n",
    "    \n",
    "\n",
    "   \n",
    "    \n",
    "    \n",
    "h = get_levels(A)\n",
    "    \n",
    "F= calc_troph_incoh(A)    \n",
    "append!( F_list, F ) \n",
    "    \n",
    "eigs_vecs = eigvecs(Matrix(A))    \n",
    "    \n",
    "#println(maximum(real(eigvals(Matrix(A)))))\n",
    "\n",
    "eigs_val=  eigvals(Matrix(A))   \n",
    "    \n",
    "    \n",
    "spec_rad=  maximum(real(eigs_val))   \n",
    "    \n",
    "scale_fac=   maximum(real(eigvals(Matrix(A)*transpose(Matrix(A)))))  \n",
    "    \n",
    "nu= sum(abs2.(eigs_val))/norm(A,2)^2\n",
    "    \n",
    "entropy= zeros(0)\n",
    "ipr= zeros(0)\n",
    "for k in 1:N\n",
    "        \n",
    "        \n",
    "        vec= abs2.(eigs_vecs[:,k])\n",
    "        vec = filter(!iszero, vec)\n",
    "        ent = sum(-vec.*(log.(vec)))\n",
    "        \n",
    "        \n",
    "        vec1= abs.(eigs_vecs[:,k])\n",
    "        \n",
    "        ratio= sum(vec1.^4)/(sum(vec1.^2))^2\n",
    "        \n",
    "        append!(entropy,ent)\n",
    "        append!(ipr,ratio)\n",
    "    end  \n",
    "        \n",
    "append!(ipr_list, mean(ipr))\n",
    "    \n",
    "\n",
    "append!(entropy_list,mean(entropy)) \n",
    "    \n",
    "append!( eig_list, spec_rad )  \n",
    "    \n",
    "    \n",
    "append!(scale_spec_list, (spec_rad/sqrt(scale_fac)))\n",
    "    \n",
    "append!( eig_list_num_abs , maximum(real(eigvals((Matrix(A) + transpose(Matrix(A)))/2))  ))    \n",
    "   \n",
    "append!(h_max_list, maximum(h))  \n",
    "    \n",
    "    \n",
    "append!(nu_normal_list, nu)\n",
    " \n",
    "diffs= zeros(0)\n",
    "\n",
    "#edges_1= []\n",
    "#edges_2=[]\n",
    "\n",
    "for (x,y,v) in zip(findnz(A)...)\n",
    "  \n",
    "    \n",
    "        d= (h[y] - h[x] )\n",
    "    \n",
    "        append!( diffs, d )\n",
    "    \n",
    "       \n",
    "        \n",
    "    \n",
    "        \n",
    "    end    \n",
    "   \n",
    " #num_diff=  count(p->(p>= 0), diffs)    \n",
    "    \n",
    "    num_diffs= sum(diffs .<= 0)/length(diffs)\n",
    "    #num_diffs= 1\n",
    "append!( num_diff_list, num_diffs )\n",
    "    \n",
    "F_round= round(F, digits=3)    \n",
    "#display(plot(eigs(A,nev=500)[1], seriestype = :scatter, label = false ,  title=\"F = $F_round\"))  \n",
    "\n",
    "println(N)\n",
    "println(sum(abs.((A)*eigs_vecs[:,5] - eigs_val[5]*eigs_vecs[:,5])))\n",
    "g= SimpleDiGraph((A))\n",
    "println(indegree(g))\n",
    "println(is_connected(g))\n",
    "println(F_list)\n",
    "println(sum(A))\n",
    "F_round= round(F_list[1], digits=3)\n",
    "println(h)"
   ]
  },
  {
   "cell_type": "markdown",
   "metadata": {},
   "source": [
    "Various plots of the spectra and then the eigenvectors of the specificed network."
   ]
  },
  {
   "cell_type": "code",
   "execution_count": 8,
   "metadata": {},
   "outputs": [
    {
     "data": {
      "text/plain": [
       "82-element Vector{Float64}:\n",
       " -0.6180339887498949\n",
       "  0.0\n",
       "  0.0\n",
       "  0.0\n",
       "  0.0\n",
       "  0.0\n",
       "  0.0\n",
       "  0.0\n",
       "  0.0\n",
       "  0.0\n",
       "  0.0\n",
       "  0.0\n",
       "  0.0\n",
       "  ⋮\n",
       "  0.0\n",
       "  0.0\n",
       "  0.0\n",
       "  0.0\n",
       "  0.0\n",
       "  0.0\n",
       "  0.0\n",
       "  0.0\n",
       "  1.0\n",
       "  1.0\n",
       "  1.0\n",
       "  1.618033988749895"
      ]
     },
     "execution_count": 8,
     "metadata": {},
     "output_type": "execute_result"
    }
   ],
   "source": [
    "eigs_val= eigvals(Matrix((A)))\n",
    "\n",
    "#plot(real.(eigs), imag.(eigs), seriestype = :scatter, label = false ,  title=\"F = $F_round\")\n",
    "\n",
    "#plot(eigs_val, seriestype = :scatter, label = false ,  title=\"F = $F_round\")\n",
    "\n",
    "#savefig(\"Julia_low_mid_T_eigs_Bicon_4.pdf\")"
   ]
  },
  {
   "cell_type": "code",
   "execution_count": 9,
   "metadata": {},
   "outputs": [
    {
     "ename": "LoadError",
     "evalue": "ArgumentError: graph must not have self-loops",
     "output_type": "error",
     "traceback": [
      "ArgumentError: graph must not have self-loops",
      "",
      "Stacktrace:",
      " [1] core_number(g::SimpleDiGraph{Int64})",
      "   @ Graphs ~/.julia/packages/Graphs/1AAjc/src/degeneracy.jl:39",
      " [2] top-level scope",
      "   @ In[9]:1",
      " [3] eval",
      "   @ ./boot.jl:360 [inlined]",
      " [4] include_string(mapexpr::typeof(REPL.softscope), mod::Module, code::String, filename::String)",
      "   @ Base ./loading.jl:1094"
     ]
    }
   ],
   "source": [
    "core_number(g)\n",
    "\n",
    "#using Plots, Pseudospectra, LinearAlgebra\n",
    "#spectralportrait(A)\n",
    "PyPlot.scatter(h,core_number(g))"
   ]
  },
  {
   "cell_type": "code",
   "execution_count": 10,
   "metadata": {},
   "outputs": [
    {
     "name": "stderr",
     "output_type": "stream",
     "text": [
      "┌ Warning: You are using Matplotlib 3.3.4, which is no longer\n",
      "│ officialy supported by the Plots community. To ensure smooth Plots.jl\n",
      "│ integration update your Matplotlib library to a version >= 3.4.0\n",
      "│ \n",
      "│ If you have used Conda.jl to install PyPlot (default installation),\n",
      "│ upgrade your matplotlib via Conda.jl and rebuild the PyPlot.\n",
      "│ \n",
      "│ If you are not sure, here are the default instructions:\n",
      "│ \n",
      "│ In Julia REPL:\n",
      "│ ```\n",
      "│ import Pkg;\n",
      "│ Pkg.add(\"Conda\")\n",
      "│ import Conda\n",
      "│ Conda.update()\n",
      "│ Pkg.build(\"PyPlot\")\n",
      "│ ```\n",
      "│ \n",
      "└ @ Plots /Users/niallrodgers/.julia/packages/Plots/SkUg1/src/backends/pyplot.jl:29\n"
     ]
    },
    {
     "data": {
      "image/png": "[encoded data removed]",
      "text/plain": [
       "Figure(PyObject <Figure size 640x480 with 2 Axes>)"
      ]
     },
     "metadata": {},
     "output_type": "display_data"
    },
    {
     "data": {
      "text/plain": [
       "PyObject Text(0.5, 1.0, 'F = 0.097')"
      ]
     },
     "execution_count": 10,
     "metadata": {},
     "output_type": "execute_result"
    }
   ],
   "source": [
    "\n",
    "x=real.(eigs_val)\n",
    "\n",
    "y=imag.(eigs_val)\n",
    "\n",
    "using PyPlot\n",
    "\n",
    "PyPlot.scatter(x,y, c=log.(ipr))\n",
    "\n",
    "cbar= plt.colorbar()\n",
    "\n",
    "cbar.set_label(\"ln(IPR)\")\n",
    "\n",
    "plt.xlabel(\"Re(x)\")\n",
    "plt.ylabel(\"Im(x)\")\n",
    "plt.title(\"F = $F_round\")\n",
    "\n",
    "#plt.savefig(\"IPR_yeast_genetic.dat.pdf\")"
   ]
  },
  {
   "cell_type": "code",
   "execution_count": 11,
   "metadata": {},
   "outputs": [
    {
     "data": {
      "image/png": "[encoded data removed]",
      "text/plain": [
       "Figure(PyObject <Figure size 640x480 with 2 Axes>)"
      ]
     },
     "metadata": {},
     "output_type": "display_data"
    },
    {
     "data": {
      "text/plain": [
       "PyObject Text(0.5, 1.0, 'F = 0.097')"
      ]
     },
     "execution_count": 11,
     "metadata": {},
     "output_type": "execute_result"
    }
   ],
   "source": [
    "x=real.(eigs_val)\n",
    "\n",
    "y=imag.(eigs_val)\n",
    "\n",
    "#using PyPlot\n",
    "\n",
    "PyPlot.scatter(x,y, c=entropy)\n",
    "\n",
    "cbar= plt.colorbar()\n",
    "\n",
    "cbar.set_label(\"Entropy\")\n",
    "\n",
    "plt.xlabel(\"Re(x)\")\n",
    "plt.ylabel(\"Im(x)\")\n",
    "plt.title(\"F = $F_round\")\n",
    "\n",
    "#plt.savefig(\"Ent_metabolic.pdf\")"
   ]
  },
  {
   "cell_type": "code",
   "execution_count": 16,
   "metadata": {},
   "outputs": [
    {
     "data": {
      "image/png": "[encoded data removed]",
      "text/plain": [
       "Figure(PyObject <Figure size 640x480 with 1 Axes>)"
      ]
     },
     "metadata": {},
     "output_type": "display_data"
    },
    {
     "data": {
      "text/plain": [
       "PyObject <matplotlib.legend.Legend object at 0x7f88095b0a60>"
      ]
     },
     "execution_count": 16,
     "metadata": {},
     "output_type": "execute_result"
    }
   ],
   "source": [
    "eigs_vecs[:,N]\n",
    "\n",
    "x=h\n",
    "\n",
    "y=abs.(real.(eigs_vecs[:,N]))\n",
    "\n",
    "\n",
    "y2= abs.(eigvecs(Matrix(transpose(A)))[:,N])\n",
    "using PyPlot\n",
    "\n",
    "PyPlot.scatter(x,y, label=\"right eigenvector\")\n",
    "PyPlot.scatter(x,y2, label =\"left eigenvector\")\n",
    "plt.ylabel(\"Principle Eigenvector Components\")\n",
    "plt.xlabel(\"Trophic Level of Node\")\n",
    "plt.title(\"Ythan Foodweb F = $F_round\")\n",
    "plt.legend(loc=\"best\")\n",
    "#plt.savefig(\"Randomgraph__left_right_eigenvector.pdf\")"
   ]
  },
  {
   "cell_type": "code",
   "execution_count": 13,
   "metadata": {},
   "outputs": [
    {
     "data": {
      "image/png": "[encoded data removed]",
      "text/plain": [
       "Figure(PyObject <Figure size 640x480 with 1 Axes>)"
      ]
     },
     "metadata": {},
     "output_type": "display_data"
    },
    {
     "data": {
      "text/plain": [
       "PyObject Text(0.5, 1.0, 'F = 0.097')"
      ]
     },
     "execution_count": 13,
     "metadata": {},
     "output_type": "execute_result"
    }
   ],
   "source": [
    "alpha = 1/eig_list[1] - 0.001\n",
    "g_trans= SimpleDiGraph(transpose(A))\n",
    "\n",
    "katz_cent= katz_centrality(g, alpha)\n",
    "\n",
    "\n",
    "PyPlot.scatter(h,katz_cent , label=\"Katz\")\n",
    "katz_cent_trans= katz_centrality(g_trans, alpha)\n",
    "PyPlot.scatter(h,katz_cent_trans, label=\"Katz Transpose\")\n",
    "plt.ylabel(\"Katz Centrality\")\n",
    "plt.legend(loc=\"best\")\n",
    "plt.xlabel(\"Trophic Level of Node\")\n",
    "plt.title(\"F = $F_round\")\n",
    "#plt.savefig(\"smalleworld_katz_2.png\")"
   ]
  },
  {
   "cell_type": "code",
   "execution_count": 14,
   "metadata": {},
   "outputs": [
    {
     "data": {
      "image/png": "[encoded data removed]",
      "text/plain": [
       "Figure(PyObject <Figure size 640x480 with 1 Axes>)"
      ]
     },
     "metadata": {},
     "output_type": "display_data"
    },
    {
     "data": {
      "text/plain": [
       "PyObject Text(0.5, 1.0, 'F = 0.097')"
      ]
     },
     "execution_count": 14,
     "metadata": {},
     "output_type": "execute_result"
    }
   ],
   "source": [
    "pagerank_cent= pagerank(g, 0.85, 100, 1.0e-10)\n",
    "\n",
    "\n",
    "PyPlot.scatter(h,pagerank_cent, label=\"PageRank\")\n",
    "pagerank_cent_trans= pagerank(g_trans, 0.85, 100, 1.0e-10)\n",
    "PyPlot.scatter(h,pagerank_cent_trans, label=\"PageRank Transpose\")\n",
    "plt.ylabel(\"PageRank Centrality\")\n",
    "plt.xlabel(\"Trophic Level of Node\")\n",
    "plt.legend(loc=\"best\")\n",
    "plt.title(\"F = $F_round\")\n",
    "#plt.savefig(\"smallworld_pageRank_2.png\")"
   ]
  },
  {
   "cell_type": "code",
   "execution_count": 9,
   "metadata": {},
   "outputs": [
    {
     "ename": "LoadError",
     "evalue": "BoundsError: attempt to access 0×0 Matrix{Float64} at index [1:0, 500]",
     "output_type": "error",
     "traceback": [
      "BoundsError: attempt to access 0×0 Matrix{Float64} at index [1:0, 500]",
      "",
      "Stacktrace:",
      " [1] throw_boundserror(A::Matrix{Float64}, I::Tuple{Base.Slice{Base.OneTo{Int64}}, Int64})",
      "   @ Base ./abstractarray.jl:651",
      " [2] checkbounds",
      "   @ ./abstractarray.jl:616 [inlined]",
      " [3] _getindex",
      "   @ ./multidimensional.jl:831 [inlined]",
      " [4] getindex(::Matrix{Float64}, ::Function, ::Int64)",
      "   @ Base ./abstractarray.jl:1170",
      " [5] top-level scope",
      "   @ In[9]:2",
      " [6] eval",
      "   @ ./boot.jl:360 [inlined]",
      " [7] include_string(mapexpr::typeof(REPL.softscope), mod::Module, code::String, filename::String)",
      "   @ Base ./loading.jl:1094"
     ]
    }
   ],
   "source": [
    "\n",
    "hits = abs.(eigvecs(Matrix(A*transpose(A)))[:,N])\n",
    "#authority = transpose(A)*(eigvecs(Matrix(A*transpose(A)))[:,500])\n",
    "authority= abs.(eigvecs(Matrix(transpose(A)*(A)))[:,N])\n",
    "println(A==transpose(A))\n",
    "PyPlot.scatter(h,hits , label=\"Hubs\")\n",
    "PyPlot.scatter(h,authority , label=\"Authority\")\n",
    "plt.legend(loc=\"best\")\n",
    "plt.title(\"F = $F_round\")\n",
    "plt.ylabel(\"HITS Centralities\")\n",
    "plt.xlabel(\"Trophic Level\")\n",
    "#plt.savefig(\"smallworld_HIts_2.png\")"
   ]
  },
  {
   "cell_type": "code",
   "execution_count": 10,
   "metadata": {},
   "outputs": [
    {
     "ename": "LoadError",
     "evalue": "BoundsError: attempt to access 0×0 Matrix{Float64} at index [1:0, 1]",
     "output_type": "error",
     "traceback": [
      "BoundsError: attempt to access 0×0 Matrix{Float64} at index [1:0, 1]",
      "",
      "Stacktrace:",
      " [1] throw_boundserror(A::Matrix{Float64}, I::Tuple{Base.Slice{Base.OneTo{Int64}}, Int64})",
      "   @ Base ./abstractarray.jl:651",
      " [2] checkbounds",
      "   @ ./abstractarray.jl:616 [inlined]",
      " [3] _getindex",
      "   @ ./multidimensional.jl:831 [inlined]",
      " [4] getindex(::Matrix{Float64}, ::Function, ::Int64)",
      "   @ Base ./abstractarray.jl:1170",
      " [5] top-level scope",
      "   @ ./In[10]:17",
      " [6] eval",
      "   @ ./boot.jl:360 [inlined]",
      " [7] include_string(mapexpr::typeof(REPL.softscope), mod::Module, code::String, filename::String)",
      "   @ Base ./loading.jl:1094"
     ]
    }
   ],
   "source": [
    "A= convert(Array{Float64}, A)\n",
    "\n",
    "w_in = vec(sum(A, dims=1))\n",
    "   \n",
    "w_out= vec(sum(A, dims=2))\n",
    "    \n",
    "u = w_in + w_out \n",
    "L =  diagm(u)-  A       \n",
    "eigs_val_L= eigvals(((L)))\n",
    "eigs_vecs_L = eigvecs(Matrix(A)) \n",
    "\n",
    "entropy_L= zeros(0)\n",
    "ipr_L= zeros(0)\n",
    "for k in 1:N\n",
    "        \n",
    "        \n",
    "        vec= abs2.(eigs_vecs_L[:,k])\n",
    "        vec = filter(!iszero, vec)\n",
    "        ent = sum(-vec.*(log.(vec)))\n",
    "        \n",
    "        \n",
    "        vec1= abs.(eigs_vecs_L[:,k])\n",
    "        \n",
    "        ratio= sum(vec1.^4)/(sum(vec1.^2))^2\n",
    "        \n",
    "        append!(entropy_L,ent)\n",
    "        append!(ipr_L,ratio)\n",
    "    end \n",
    "\n",
    "x=real.(eigs_val_L)\n",
    "\n",
    "y=imag.(eigs_val_L)\n",
    "\n",
    "#using PyPlot\n",
    "\n",
    "PyPlot.scatter(x,y, c=log.(ipr_L))\n",
    "\n",
    "cbar= plt.colorbar()\n",
    "\n",
    "cbar.set_label(\"ln(IPR)\")\n",
    "\n",
    "plt.xlabel(\"Re(x)\")\n",
    "plt.ylabel(\"Im(x)\")\n",
    "\n",
    "plt.title(\"Laplacian Eigenvalues F = $F_round\")\n",
    "#plt.savefig(\"Lapacian_IPR_el_verde.pdf\")    \n",
    "#plot(eigs_val, seriestype = :scatter, label = false ,  title=\"F = $F_round\")"
   ]
  },
  {
   "cell_type": "code",
   "execution_count": 11,
   "metadata": {},
   "outputs": [
    {
     "ename": "LoadError",
     "evalue": "syntax: invalid named tuple element \"eigs(A, nev = 500)[1]\" around In[11]:1",
     "output_type": "error",
     "traceback": [
      "syntax: invalid named tuple element \"eigs(A, nev = 500)[1]\" around In[11]:1",
      "",
      "Stacktrace:",
      " [1] top-level scope",
      "   @ In[11]:1",
      " [2] eval",
      "   @ ./boot.jl:360 [inlined]",
      " [3] include_string(mapexpr::typeof(REPL.softscope), mod::Module, code::String, filename::String)",
      "   @ Base ./loading.jl:1094"
     ]
    }
   ],
   "source": [
    "(eigs(A,nev=500)[1], seriestype = :scatter, label = false ,  title=\"F = $F_round\")\n",
    "\n",
    "#savefig(\"Arpack_Eigen_julia.pdf\")"
   ]
  },
  {
   "cell_type": "code",
   "execution_count": 12,
   "metadata": {},
   "outputs": [
    {
     "ename": "LoadError",
     "evalue": "UndefVarError: eigenvector_centrality not defined",
     "output_type": "error",
     "traceback": [
      "UndefVarError: eigenvector_centrality not defined",
      "",
      "Stacktrace:",
      " [1] top-level scope",
      "   @ In[12]:1",
      " [2] eval",
      "   @ ./boot.jl:360 [inlined]",
      " [3] include_string(mapexpr::typeof(REPL.softscope), mod::Module, code::String, filename::String)",
      "   @ Base ./loading.jl:1094"
     ]
    }
   ],
   "source": [
    "eig_cent= eigenvector_centrality(g)\n",
    "deg_cent= degree_centrality(g)\n",
    "in_cent= indegree_centrality(g)\n",
    "out_cent=outdegree_centrality(g)\n",
    "bet_cent=betweenness_centrality(g)\n",
    "katz_cent= katz_centrality(g, 0.3)\n",
    "\n",
    "pagerank_cent= pagerank(g, 0.85, 100, 1.0e-6)"
   ]
  },
  {
   "cell_type": "code",
   "execution_count": 13,
   "metadata": {},
   "outputs": [
    {
     "ename": "LoadError",
     "evalue": "UndefVarError: pagerank not defined",
     "output_type": "error",
     "traceback": [
      "UndefVarError: pagerank not defined",
      "",
      "Stacktrace:",
      " [1] top-level scope",
      "   @ In[13]:1",
      " [2] eval",
      "   @ ./boot.jl:360 [inlined]",
      " [3] include_string(mapexpr::typeof(REPL.softscope), mod::Module, code::String, filename::String)",
      "   @ Base ./loading.jl:1094"
     ]
    }
   ],
   "source": [
    "pr =  pagerank(g, 0.85, 100, 1.0e-6)\n",
    "\n",
    "pr = filter(!iszero, pr)\n",
    "    \n",
    "#pr = pr*(1/(sum(pr)))\n",
    "ent_pr = sum(-pr.*(log.(pr)))/log(N)"
   ]
  },
  {
   "cell_type": "code",
   "execution_count": 14,
   "metadata": {},
   "outputs": [
    {
     "ename": "LoadError",
     "evalue": "UndefVarError: F_round not defined",
     "output_type": "error",
     "traceback": [
      "UndefVarError: F_round not defined",
      "",
      "Stacktrace:",
      " [1] top-level scope",
      "   @ In[14]:1",
      " [2] eval",
      "   @ ./boot.jl:360 [inlined]",
      " [3] include_string(mapexpr::typeof(REPL.softscope), mod::Module, code::String, filename::String)",
      "   @ Base ./loading.jl:1094"
     ]
    }
   ],
   "source": [
    "plot(h,in_cent,seriestype = :scatter, xlabel=\"Trophic Level\", ylabel=\"In Degree Centrality\", label=false, title=\"F = $F_round\")\n",
    "\n",
    "\n",
    "#savefig(\"Path_in_degree.pdf\")\n",
    "#savefig(\"in_deg_cent_high_julia.pdf\")\n",
    "\n",
    "\n",
    "\n"
   ]
  },
  {
   "cell_type": "code",
   "execution_count": 15,
   "metadata": {},
   "outputs": [
    {
     "ename": "LoadError",
     "evalue": "UndefVarError: F_round not defined",
     "output_type": "error",
     "traceback": [
      "UndefVarError: F_round not defined",
      "",
      "Stacktrace:",
      " [1] top-level scope",
      "   @ In[15]:1",
      " [2] eval",
      "   @ ./boot.jl:360 [inlined]",
      " [3] include_string(mapexpr::typeof(REPL.softscope), mod::Module, code::String, filename::String)",
      "   @ Base ./loading.jl:1094"
     ]
    }
   ],
   "source": [
    "plot(h,out_cent,seriestype = :scatter, xlabel=\"Trophic Level\", ylabel=\"Out Degree Centrality\", label=false, title=\"F = $F_round\")\n",
    "\n",
    "\n",
    "#savefig(\"Path_out_degree.pdf\")\n",
    "#savefig(\"out_deg_cent_high_julia.pdf\")\n"
   ]
  },
  {
   "cell_type": "code",
   "execution_count": 16,
   "metadata": {},
   "outputs": [
    {
     "ename": "LoadError",
     "evalue": "UndefVarError: F_round not defined",
     "output_type": "error",
     "traceback": [
      "UndefVarError: F_round not defined",
      "",
      "Stacktrace:",
      " [1] top-level scope",
      "   @ In[16]:1",
      " [2] eval",
      "   @ ./boot.jl:360 [inlined]",
      " [3] include_string(mapexpr::typeof(REPL.softscope), mod::Module, code::String, filename::String)",
      "   @ Base ./loading.jl:1094"
     ]
    }
   ],
   "source": [
    "plot(h,in_cent,seriestype = :scatter, xlabel=\"Trophic Level\", ylabel=\" Degree Centrality\", label=false, title=\"F = $F_round\")\n",
    "\n",
    "\n",
    "#savefig(\"Path_degree.pdf\")\n",
    "#savefig(\"deg_cent_high_julia.pdf\")"
   ]
  },
  {
   "cell_type": "code",
   "execution_count": 17,
   "metadata": {},
   "outputs": [
    {
     "ename": "LoadError",
     "evalue": "UndefVarError: F_round not defined",
     "output_type": "error",
     "traceback": [
      "UndefVarError: F_round not defined",
      "",
      "Stacktrace:",
      " [1] top-level scope",
      "   @ In[17]:1",
      " [2] eval",
      "   @ ./boot.jl:360 [inlined]",
      " [3] include_string(mapexpr::typeof(REPL.softscope), mod::Module, code::String, filename::String)",
      "   @ Base ./loading.jl:1094"
     ]
    }
   ],
   "source": [
    "plot(h,eig_cent,seriestype = :scatter, xlabel=\"Trophic Level\", ylabel=\"Eigenvector Centrality\", label=false, title=\"F = $F_round\")\n",
    "\n",
    "\n",
    "#savefig(\"Path_eigenvector.pdf\")\n",
    "#savefig(\"Eigen_cent_Food_web_pdf\")"
   ]
  },
  {
   "cell_type": "code",
   "execution_count": 18,
   "metadata": {},
   "outputs": [
    {
     "ename": "LoadError",
     "evalue": "UndefVarError: F_round not defined",
     "output_type": "error",
     "traceback": [
      "UndefVarError: F_round not defined",
      "",
      "Stacktrace:",
      " [1] top-level scope",
      "   @ In[18]:3",
      " [2] eval",
      "   @ ./boot.jl:360 [inlined]",
      " [3] include_string(mapexpr::typeof(REPL.softscope), mod::Module, code::String, filename::String)",
      "   @ Base ./loading.jl:1094"
     ]
    }
   ],
   "source": [
    "\n",
    "\n",
    "plot(h,bet_cent,seriestype = :scatter, xlabel=\"Trophic Level\", ylabel=\" Betweeness Centrality\", label=false, title=\"F = $F_round\")\n",
    "\n",
    "\n",
    "#savefig(\"Path_betweeness.pdf\")\n",
    "#savefig(\"bet_deg_cent_high_julia.pdf\")"
   ]
  },
  {
   "cell_type": "code",
   "execution_count": 19,
   "metadata": {},
   "outputs": [
    {
     "ename": "LoadError",
     "evalue": "UndefVarError: F_round not defined",
     "output_type": "error",
     "traceback": [
      "UndefVarError: F_round not defined",
      "",
      "Stacktrace:",
      " [1] top-level scope",
      "   @ In[19]:1",
      " [2] eval",
      "   @ ./boot.jl:360 [inlined]",
      " [3] include_string(mapexpr::typeof(REPL.softscope), mod::Module, code::String, filename::String)",
      "   @ Base ./loading.jl:1094"
     ]
    }
   ],
   "source": [
    "plot(h,pagerank_cent,seriestype = :scatter, xlabel=\"Trophic Level\", ylabel=\" Pagerank\", label=false, title=\"F = $F_round\")\n",
    "\n",
    "\n",
    "#savefig(\"Path_pagerank.pdf\")\n",
    "#savefig(\"pagerannk_deg_cent_high_julia.pdf\")"
   ]
  },
  {
   "cell_type": "code",
   "execution_count": 20,
   "metadata": {},
   "outputs": [
    {
     "ename": "LoadError",
     "evalue": "UndefVarError: F_round not defined",
     "output_type": "error",
     "traceback": [
      "UndefVarError: F_round not defined",
      "",
      "Stacktrace:",
      " [1] top-level scope",
      "   @ In[20]:1",
      " [2] eval",
      "   @ ./boot.jl:360 [inlined]",
      " [3] include_string(mapexpr::typeof(REPL.softscope), mod::Module, code::String, filename::String)",
      "   @ Base ./loading.jl:1094"
     ]
    }
   ],
   "source": [
    "plot(h,katz_cent,seriestype = :scatter, xlabel=\"Trophic Level\", ylabel=\" Katz\", label=false, title=\"F = $F_round\")\n",
    "\n",
    "\n",
    "#savefig(\"Path_katz.pdf\")\n",
    "#savefig(\"katz_deg_cent_high_julia.pdf\")"
   ]
  },
  {
   "cell_type": "code",
   "execution_count": 21,
   "metadata": {},
   "outputs": [
    {
     "ename": "LoadError",
     "evalue": "PyError ($(Expr(:escape, :(ccall(#= /Users/niallrodgers/.julia/packages/PyCall/7a7w0/src/pyfncall.jl:43 =# @pysym(:PyObject_Call), PyPtr, (PyPtr, PyPtr, PyPtr), o, pyargsptr, kw))))) <class 'AttributeError'>\nAttributeError(\"'Line2D' object has no property 'seriestype'\")\n  File \"/Users/niallrodgers/.julia/conda/3/lib/python3.9/site-packages/matplotlib/pyplot.py\", line 2840, in plot\n    return gca().plot(\n  File \"/Users/niallrodgers/.julia/conda/3/lib/python3.9/site-packages/matplotlib/axes/_axes.py\", line 1743, in plot\n    lines = [*self._get_lines(*args, data=data, **kwargs)]\n  File \"/Users/niallrodgers/.julia/conda/3/lib/python3.9/site-packages/matplotlib/axes/_base.py\", line 273, in __call__\n    yield from self._plot_args(this, kwargs)\n  File \"/Users/niallrodgers/.julia/conda/3/lib/python3.9/site-packages/matplotlib/axes/_base.py\", line 418, in _plot_args\n    return [func(x[:, j % ncx], y[:, j % ncy], kw, kwargs)\n  File \"/Users/niallrodgers/.julia/conda/3/lib/python3.9/site-packages/matplotlib/axes/_base.py\", line 418, in <listcomp>\n    return [func(x[:, j % ncx], y[:, j % ncy], kw, kwargs)\n  File \"/Users/niallrodgers/.julia/conda/3/lib/python3.9/site-packages/matplotlib/axes/_base.py\", line 312, in _makeline\n    seg = mlines.Line2D(x, y, **kw)\n  File \"/Users/niallrodgers/.julia/conda/3/lib/python3.9/site-packages/matplotlib/lines.py\", line 390, in __init__\n    self.update(kwargs)\n  File \"/Users/niallrodgers/.julia/conda/3/lib/python3.9/site-packages/matplotlib/artist.py\", line 996, in update\n    raise AttributeError(f\"{type(self).__name__!r} object \"\n",
     "output_type": "error",
     "traceback": [
      "PyError ($(Expr(:escape, :(ccall(#= /Users/niallrodgers/.julia/packages/PyCall/7a7w0/src/pyfncall.jl:43 =# @pysym(:PyObject_Call), PyPtr, (PyPtr, PyPtr, PyPtr), o, pyargsptr, kw))))) <class 'AttributeError'>\nAttributeError(\"'Line2D' object has no property 'seriestype'\")\n  File \"/Users/niallrodgers/.julia/conda/3/lib/python3.9/site-packages/matplotlib/pyplot.py\", line 2840, in plot\n    return gca().plot(\n  File \"/Users/niallrodgers/.julia/conda/3/lib/python3.9/site-packages/matplotlib/axes/_axes.py\", line 1743, in plot\n    lines = [*self._get_lines(*args, data=data, **kwargs)]\n  File \"/Users/niallrodgers/.julia/conda/3/lib/python3.9/site-packages/matplotlib/axes/_base.py\", line 273, in __call__\n    yield from self._plot_args(this, kwargs)\n  File \"/Users/niallrodgers/.julia/conda/3/lib/python3.9/site-packages/matplotlib/axes/_base.py\", line 418, in _plot_args\n    return [func(x[:, j % ncx], y[:, j % ncy], kw, kwargs)\n  File \"/Users/niallrodgers/.julia/conda/3/lib/python3.9/site-packages/matplotlib/axes/_base.py\", line 418, in <listcomp>\n    return [func(x[:, j % ncx], y[:, j % ncy], kw, kwargs)\n  File \"/Users/niallrodgers/.julia/conda/3/lib/python3.9/site-packages/matplotlib/axes/_base.py\", line 312, in _makeline\n    seg = mlines.Line2D(x, y, **kw)\n  File \"/Users/niallrodgers/.julia/conda/3/lib/python3.9/site-packages/matplotlib/lines.py\", line 390, in __init__\n    self.update(kwargs)\n  File \"/Users/niallrodgers/.julia/conda/3/lib/python3.9/site-packages/matplotlib/artist.py\", line 996, in update\n    raise AttributeError(f\"{type(self).__name__!r} object \"\n",
      "",
      "Stacktrace:",
      "  [1] pyerr_check",
      "    @ ~/.julia/packages/PyCall/7a7w0/src/exception.jl:62 [inlined]",
      "  [2] pyerr_check",
      "    @ ~/.julia/packages/PyCall/7a7w0/src/exception.jl:66 [inlined]",
      "  [3] _handle_error(msg::String)",
      "    @ PyCall ~/.julia/packages/PyCall/7a7w0/src/exception.jl:83",
      "  [4] macro expansion",
      "    @ ~/.julia/packages/PyCall/7a7w0/src/exception.jl:97 [inlined]",
      "  [5] #107",
      "    @ ~/.julia/packages/PyCall/7a7w0/src/pyfncall.jl:43 [inlined]",
      "  [6] disable_sigint",
      "    @ ./c.jl:458 [inlined]",
      "  [7] __pycall!",
      "    @ ~/.julia/packages/PyCall/7a7w0/src/pyfncall.jl:42 [inlined]",
      "  [8] _pycall!(ret::PyCall.PyObject, o::PyCall.PyObject, args::Tuple{Vector{Float64}}, nargs::Int64, kw::PyCall.PyObject)",
      "    @ PyCall ~/.julia/packages/PyCall/7a7w0/src/pyfncall.jl:29",
      "  [9] _pycall!(ret::PyCall.PyObject, o::PyCall.PyObject, args::Tuple{Vector{Float64}}, kwargs::Base.Iterators.Pairs{Symbol, Any, NTuple{4, Symbol}, NamedTuple{(:seriestype, :ylabel, :xlabel, :label), Tuple{Symbol, String, String, Bool}}})",
      "    @ PyCall ~/.julia/packages/PyCall/7a7w0/src/pyfncall.jl:11",
      " [10] #pycall#113",
      "    @ ~/.julia/packages/PyCall/7a7w0/src/pyfncall.jl:83 [inlined]",
      " [11] plot(args::Vector{Float64}; kws::Base.Iterators.Pairs{Symbol, Any, NTuple{4, Symbol}, NamedTuple{(:seriestype, :ylabel, :xlabel, :label), Tuple{Symbol, String, String, Bool}}})",
      "    @ PyPlot ~/.julia/packages/PyPlot/XaELc/src/PyPlot.jl:177",
      " [12] top-level scope",
      "    @ In[21]:1",
      " [13] eval",
      "    @ ./boot.jl:360 [inlined]",
      " [14] include_string(mapexpr::typeof(REPL.softscope), mod::Module, code::String, filename::String)",
      "    @ Base ./loading.jl:1094"
     ]
    }
   ],
   "source": [
    "plot(h,seriestype = :scatter, ylabel=\"Trophic Level\", xlabel=\" Node Label\", label=false,)\n",
    "\n",
    "#savefig(\"Path_trophic_level.pdf\")"
   ]
  },
  {
   "cell_type": "code",
   "execution_count": 22,
   "metadata": {},
   "outputs": [
    {
     "ename": "LoadError",
     "evalue": "UndefVarError: F_round not defined",
     "output_type": "error",
     "traceback": [
      "UndefVarError: F_round not defined",
      "",
      "Stacktrace:",
      " [1] top-level scope",
      "   @ In[22]:7",
      " [2] eval",
      "   @ ./boot.jl:360 [inlined]",
      " [3] include_string(mapexpr::typeof(REPL.softscope), mod::Module, code::String, filename::String)",
      "   @ Base ./loading.jl:1094"
     ]
    }
   ],
   "source": [
    "using Arpack\n",
    "typeof(eigs)\n",
    "eigs_val= eigvals(Matrix((A)))\n",
    "\n",
    "#plot(real.(eigs), imag.(eigs), seriestype = :scatter, label = false ,  title=\"F = $F_round\")\n",
    "\n",
    "plot(eigs_val, seriestype = :scatter, label = false ,  title=\"F = $F_round\")"
   ]
  },
  {
   "cell_type": "code",
   "execution_count": 23,
   "metadata": {},
   "outputs": [
    {
     "name": "stderr",
     "output_type": "stream",
     "text": [
      "┌ Warning: You are using Matplotlib 3.3.4, which is no longer\n",
      "│ officialy supported by the Plots community. To ensure smooth Plots.jl\n",
      "│ integration update your Matplotlib library to a version >= 3.4.0\n",
      "│ \n",
      "│ If you have used Conda.jl to install PyPlot (default installation),\n",
      "│ upgrade your matplotlib via Conda.jl and rebuild the PyPlot.\n",
      "│ \n",
      "│ If you are not sure, here are the default instructions:\n",
      "│ \n",
      "│ In Julia REPL:\n",
      "│ ```\n",
      "│ import Pkg;\n",
      "│ Pkg.add(\"Conda\")\n",
      "│ import Conda\n",
      "│ Conda.update()\n",
      "│ Pkg.build(\"PyPlot\")\n",
      "│ ```\n",
      "│ \n",
      "└ @ Plots /Users/niallrodgers/.julia/packages/Plots/SkUg1/src/backends/pyplot.jl:29\n",
      "WARNING: using Plots.plot in module Main conflicts with an existing identifier.\n"
     ]
    }
   ],
   "source": [
    "using Plots\n",
    "\n",
    "#histogram(diffs, xlabel= \"Level Differences\", ylabel=\"Frequency\", title=(string(\"N=1000 k=10 F=\",  string(round(F,digits = 3) ))))\n",
    "\n",
    "#savefig(\"Generated_Level_distribution_high.pdf\")"
   ]
  },
  {
   "cell_type": "code",
   "execution_count": 24,
   "metadata": {},
   "outputs": [
    {
     "ename": "LoadError",
     "evalue": "UndefVarError: T_list not defined",
     "output_type": "error",
     "traceback": [
      "UndefVarError: T_list not defined",
      "",
      "Stacktrace:",
      " [1] top-level scope",
      "   @ In[24]:3",
      " [2] eval",
      "   @ ./boot.jl:360 [inlined]",
      " [3] include_string(mapexpr::typeof(REPL.softscope), mod::Module, code::String, filename::String)",
      "   @ Base ./loading.jl:1094"
     ]
    }
   ],
   "source": [
    "using Plots\n",
    "\n",
    "plot(T_list,F_list, seriestype = :scatter, legend = false, xlabel= \"Temperatue\",\n",
    "\n",
    "ylabel=\"Trophic Incoherence\", title= \"Julia Network Generation\")\n",
    "\n",
    "#savefig(\"Julia_generation_2.pdf\")"
   ]
  },
  {
   "cell_type": "code",
   "execution_count": 25,
   "metadata": {},
   "outputs": [
    {
     "ename": "LoadError",
     "evalue": "PyError ($(Expr(:escape, :(ccall(#= /Users/niallrodgers/.julia/packages/PyCall/7a7w0/src/pyfncall.jl:43 =# @pysym(:PyObject_Call), PyPtr, (PyPtr, PyPtr, PyPtr), o, pyargsptr, kw))))) <class 'AttributeError'>\nAttributeError(\"'Line2D' object has no property 'ylabel'\")\n  File \"/Users/niallrodgers/.julia/conda/3/lib/python3.9/site-packages/matplotlib/pyplot.py\", line 2840, in plot\n    return gca().plot(\n  File \"/Users/niallrodgers/.julia/conda/3/lib/python3.9/site-packages/matplotlib/axes/_axes.py\", line 1743, in plot\n    lines = [*self._get_lines(*args, data=data, **kwargs)]\n  File \"/Users/niallrodgers/.julia/conda/3/lib/python3.9/site-packages/matplotlib/axes/_base.py\", line 273, in __call__\n    yield from self._plot_args(this, kwargs)\n  File \"/Users/niallrodgers/.julia/conda/3/lib/python3.9/site-packages/matplotlib/axes/_base.py\", line 418, in _plot_args\n    return [func(x[:, j % ncx], y[:, j % ncy], kw, kwargs)\n  File \"/Users/niallrodgers/.julia/conda/3/lib/python3.9/site-packages/matplotlib/axes/_base.py\", line 418, in <listcomp>\n    return [func(x[:, j % ncx], y[:, j % ncy], kw, kwargs)\n  File \"/Users/niallrodgers/.julia/conda/3/lib/python3.9/site-packages/matplotlib/axes/_base.py\", line 312, in _makeline\n    seg = mlines.Line2D(x, y, **kw)\n  File \"/Users/niallrodgers/.julia/conda/3/lib/python3.9/site-packages/matplotlib/lines.py\", line 390, in __init__\n    self.update(kwargs)\n  File \"/Users/niallrodgers/.julia/conda/3/lib/python3.9/site-packages/matplotlib/artist.py\", line 996, in update\n    raise AttributeError(f\"{type(self).__name__!r} object \"\n",
     "output_type": "error",
     "traceback": [
      "PyError ($(Expr(:escape, :(ccall(#= /Users/niallrodgers/.julia/packages/PyCall/7a7w0/src/pyfncall.jl:43 =# @pysym(:PyObject_Call), PyPtr, (PyPtr, PyPtr, PyPtr), o, pyargsptr, kw))))) <class 'AttributeError'>\nAttributeError(\"'Line2D' object has no property 'ylabel'\")\n  File \"/Users/niallrodgers/.julia/conda/3/lib/python3.9/site-packages/matplotlib/pyplot.py\", line 2840, in plot\n    return gca().plot(\n  File \"/Users/niallrodgers/.julia/conda/3/lib/python3.9/site-packages/matplotlib/axes/_axes.py\", line 1743, in plot\n    lines = [*self._get_lines(*args, data=data, **kwargs)]\n  File \"/Users/niallrodgers/.julia/conda/3/lib/python3.9/site-packages/matplotlib/axes/_base.py\", line 273, in __call__\n    yield from self._plot_args(this, kwargs)\n  File \"/Users/niallrodgers/.julia/conda/3/lib/python3.9/site-packages/matplotlib/axes/_base.py\", line 418, in _plot_args\n    return [func(x[:, j % ncx], y[:, j % ncy], kw, kwargs)\n  File \"/Users/niallrodgers/.julia/conda/3/lib/python3.9/site-packages/matplotlib/axes/_base.py\", line 418, in <listcomp>\n    return [func(x[:, j % ncx], y[:, j % ncy], kw, kwargs)\n  File \"/Users/niallrodgers/.julia/conda/3/lib/python3.9/site-packages/matplotlib/axes/_base.py\", line 312, in _makeline\n    seg = mlines.Line2D(x, y, **kw)\n  File \"/Users/niallrodgers/.julia/conda/3/lib/python3.9/site-packages/matplotlib/lines.py\", line 390, in __init__\n    self.update(kwargs)\n  File \"/Users/niallrodgers/.julia/conda/3/lib/python3.9/site-packages/matplotlib/artist.py\", line 996, in update\n    raise AttributeError(f\"{type(self).__name__!r} object \"\n",
      "",
      "Stacktrace:",
      "  [1] pyerr_check",
      "    @ ~/.julia/packages/PyCall/7a7w0/src/exception.jl:62 [inlined]",
      "  [2] pyerr_check",
      "    @ ~/.julia/packages/PyCall/7a7w0/src/exception.jl:66 [inlined]",
      "  [3] _handle_error(msg::String)",
      "    @ PyCall ~/.julia/packages/PyCall/7a7w0/src/exception.jl:83",
      "  [4] macro expansion",
      "    @ ~/.julia/packages/PyCall/7a7w0/src/exception.jl:97 [inlined]",
      "  [5] #107",
      "    @ ~/.julia/packages/PyCall/7a7w0/src/pyfncall.jl:43 [inlined]",
      "  [6] disable_sigint",
      "    @ ./c.jl:458 [inlined]",
      "  [7] __pycall!",
      "    @ ~/.julia/packages/PyCall/7a7w0/src/pyfncall.jl:42 [inlined]",
      "  [8] _pycall!(ret::PyCall.PyObject, o::PyCall.PyObject, args::Tuple{Vector{Float64}, Vector{Float64}}, nargs::Int64, kw::PyCall.PyObject)",
      "    @ PyCall ~/.julia/packages/PyCall/7a7w0/src/pyfncall.jl:29",
      "  [9] _pycall!(ret::PyCall.PyObject, o::PyCall.PyObject, args::Tuple{Vector{Float64}, Vector{Float64}}, kwargs::Base.Iterators.Pairs{Symbol, Any, NTuple{6, Symbol}, NamedTuple{(:seriestype, :legend, :xlabel, :ylabel, :title, :label), Tuple{Symbol, Symbol, String, String, String, String}}})",
      "    @ PyCall ~/.julia/packages/PyCall/7a7w0/src/pyfncall.jl:11",
      " [10] pycall(::PyCall.PyObject, ::Type{PyCall.PyAny}, ::Vector{Float64}, ::Vararg{Vector{Float64}, N} where N; kwargs::Base.Iterators.Pairs{Symbol, Any, NTuple{6, Symbol}, NamedTuple{(:seriestype, :legend, :xlabel, :ylabel, :title, :label), Tuple{Symbol, Symbol, String, String, String, String}}})",
      "    @ PyCall ~/.julia/packages/PyCall/7a7w0/src/pyfncall.jl:83",
      " [11] plot(::Vector{Float64}, ::Vararg{Vector{Float64}, N} where N; kws::Base.Iterators.Pairs{Symbol, Any, NTuple{6, Symbol}, NamedTuple{(:seriestype, :legend, :xlabel, :ylabel, :title, :label), Tuple{Symbol, Symbol, String, String, String, String}}})",
      "    @ PyPlot ~/.julia/packages/PyPlot/XaELc/src/PyPlot.jl:177",
      " [12] top-level scope",
      "    @ In[25]:9",
      " [13] eval",
      "    @ ./boot.jl:360 [inlined]",
      " [14] include_string(mapexpr::typeof(REPL.softscope), mod::Module, code::String, filename::String)",
      "    @ Base ./loading.jl:1094"
     ]
    }
   ],
   "source": [
    "\n",
    "using Polynomials\n",
    "\n",
    "x=F_list\n",
    "\n",
    "y= num_diff_list\n",
    "\n",
    "\n",
    "plot(F_list, num_diff_list, seriestype = :scatter, legend = :topleft, xlabel= \"Trophic Incoherence\",\n",
    "\n",
    "ylabel=\"Fraction of Negative Edges\", title= \"Fraction of Negative Edges N=500 k=20\", label= \"Networks\")\n",
    "\n",
    "\n",
    "\n",
    "#savefig(\"NegativeEdges_N=500.pdf\")\n"
   ]
  },
  {
   "cell_type": "code",
   "execution_count": 26,
   "metadata": {},
   "outputs": [
    {
     "ename": "LoadError",
     "evalue": "PyError ($(Expr(:escape, :(ccall(#= /Users/niallrodgers/.julia/packages/PyCall/7a7w0/src/pyfncall.jl:43 =# @pysym(:PyObject_Call), PyPtr, (PyPtr, PyPtr, PyPtr), o, pyargsptr, kw))))) <class 'AttributeError'>\nAttributeError(\"'Line2D' object has no property 'ylabel'\")\n  File \"/Users/niallrodgers/.julia/conda/3/lib/python3.9/site-packages/matplotlib/pyplot.py\", line 2840, in plot\n    return gca().plot(\n  File \"/Users/niallrodgers/.julia/conda/3/lib/python3.9/site-packages/matplotlib/axes/_axes.py\", line 1743, in plot\n    lines = [*self._get_lines(*args, data=data, **kwargs)]\n  File \"/Users/niallrodgers/.julia/conda/3/lib/python3.9/site-packages/matplotlib/axes/_base.py\", line 273, in __call__\n    yield from self._plot_args(this, kwargs)\n  File \"/Users/niallrodgers/.julia/conda/3/lib/python3.9/site-packages/matplotlib/axes/_base.py\", line 418, in _plot_args\n    return [func(x[:, j % ncx], y[:, j % ncy], kw, kwargs)\n  File \"/Users/niallrodgers/.julia/conda/3/lib/python3.9/site-packages/matplotlib/axes/_base.py\", line 418, in <listcomp>\n    return [func(x[:, j % ncx], y[:, j % ncy], kw, kwargs)\n  File \"/Users/niallrodgers/.julia/conda/3/lib/python3.9/site-packages/matplotlib/axes/_base.py\", line 312, in _makeline\n    seg = mlines.Line2D(x, y, **kw)\n  File \"/Users/niallrodgers/.julia/conda/3/lib/python3.9/site-packages/matplotlib/lines.py\", line 390, in __init__\n    self.update(kwargs)\n  File \"/Users/niallrodgers/.julia/conda/3/lib/python3.9/site-packages/matplotlib/artist.py\", line 996, in update\n    raise AttributeError(f\"{type(self).__name__!r} object \"\n",
     "output_type": "error",
     "traceback": [
      "PyError ($(Expr(:escape, :(ccall(#= /Users/niallrodgers/.julia/packages/PyCall/7a7w0/src/pyfncall.jl:43 =# @pysym(:PyObject_Call), PyPtr, (PyPtr, PyPtr, PyPtr), o, pyargsptr, kw))))) <class 'AttributeError'>\nAttributeError(\"'Line2D' object has no property 'ylabel'\")\n  File \"/Users/niallrodgers/.julia/conda/3/lib/python3.9/site-packages/matplotlib/pyplot.py\", line 2840, in plot\n    return gca().plot(\n  File \"/Users/niallrodgers/.julia/conda/3/lib/python3.9/site-packages/matplotlib/axes/_axes.py\", line 1743, in plot\n    lines = [*self._get_lines(*args, data=data, **kwargs)]\n  File \"/Users/niallrodgers/.julia/conda/3/lib/python3.9/site-packages/matplotlib/axes/_base.py\", line 273, in __call__\n    yield from self._plot_args(this, kwargs)\n  File \"/Users/niallrodgers/.julia/conda/3/lib/python3.9/site-packages/matplotlib/axes/_base.py\", line 418, in _plot_args\n    return [func(x[:, j % ncx], y[:, j % ncy], kw, kwargs)\n  File \"/Users/niallrodgers/.julia/conda/3/lib/python3.9/site-packages/matplotlib/axes/_base.py\", line 418, in <listcomp>\n    return [func(x[:, j % ncx], y[:, j % ncy], kw, kwargs)\n  File \"/Users/niallrodgers/.julia/conda/3/lib/python3.9/site-packages/matplotlib/axes/_base.py\", line 312, in _makeline\n    seg = mlines.Line2D(x, y, **kw)\n  File \"/Users/niallrodgers/.julia/conda/3/lib/python3.9/site-packages/matplotlib/lines.py\", line 390, in __init__\n    self.update(kwargs)\n  File \"/Users/niallrodgers/.julia/conda/3/lib/python3.9/site-packages/matplotlib/artist.py\", line 996, in update\n    raise AttributeError(f\"{type(self).__name__!r} object \"\n",
      "",
      "Stacktrace:",
      "  [1] pyerr_check",
      "    @ ~/.julia/packages/PyCall/7a7w0/src/exception.jl:62 [inlined]",
      "  [2] pyerr_check",
      "    @ ~/.julia/packages/PyCall/7a7w0/src/exception.jl:66 [inlined]",
      "  [3] _handle_error(msg::String)",
      "    @ PyCall ~/.julia/packages/PyCall/7a7w0/src/exception.jl:83",
      "  [4] macro expansion",
      "    @ ~/.julia/packages/PyCall/7a7w0/src/exception.jl:97 [inlined]",
      "  [5] #107",
      "    @ ~/.julia/packages/PyCall/7a7w0/src/pyfncall.jl:43 [inlined]",
      "  [6] disable_sigint",
      "    @ ./c.jl:458 [inlined]",
      "  [7] __pycall!",
      "    @ ~/.julia/packages/PyCall/7a7w0/src/pyfncall.jl:42 [inlined]",
      "  [8] _pycall!(ret::PyCall.PyObject, o::PyCall.PyObject, args::Tuple{Vector{Float64}, Vector{Float64}}, nargs::Int64, kw::PyCall.PyObject)",
      "    @ PyCall ~/.julia/packages/PyCall/7a7w0/src/pyfncall.jl:29",
      "  [9] _pycall!(ret::PyCall.PyObject, o::PyCall.PyObject, args::Tuple{Vector{Float64}, Vector{Float64}}, kwargs::Base.Iterators.Pairs{Symbol, Any, NTuple{6, Symbol}, NamedTuple{(:seriestype, :legend, :xlabel, :ylabel, :title, :label), Tuple{Symbol, Symbol, String, String, String, String}}})",
      "    @ PyCall ~/.julia/packages/PyCall/7a7w0/src/pyfncall.jl:11",
      " [10] pycall(::PyCall.PyObject, ::Type{PyCall.PyAny}, ::Vector{Float64}, ::Vararg{Vector{Float64}, N} where N; kwargs::Base.Iterators.Pairs{Symbol, Any, NTuple{6, Symbol}, NamedTuple{(:seriestype, :legend, :xlabel, :ylabel, :title, :label), Tuple{Symbol, Symbol, String, String, String, String}}})",
      "    @ PyCall ~/.julia/packages/PyCall/7a7w0/src/pyfncall.jl:83",
      " [11] plot(::Vector{Float64}, ::Vararg{Vector{Float64}, N} where N; kws::Base.Iterators.Pairs{Symbol, Any, NTuple{6, Symbol}, NamedTuple{(:seriestype, :legend, :xlabel, :ylabel, :title, :label), Tuple{Symbol, Symbol, String, String, String, String}}})",
      "    @ PyPlot ~/.julia/packages/PyPlot/XaELc/src/PyPlot.jl:177",
      " [12] top-level scope",
      "    @ In[26]:3",
      " [13] eval",
      "    @ ./boot.jl:360 [inlined]",
      " [14] include_string(mapexpr::typeof(REPL.softscope), mod::Module, code::String, filename::String)",
      "    @ Base ./loading.jl:1094"
     ]
    }
   ],
   "source": [
    "#println(eig_list)\n",
    "\n",
    "plot(F_list, eig_list, seriestype = :scatter, legend = :bottomright, xlabel= \"Trophic Incoherence\",\n",
    "\n",
    "ylabel=\"Abscissa of Networks\", title= \"Spectral Properties\", label= \"Spectral\" )\n",
    "\n",
    "plot!(F_list, eig_list_num_abs, seriestype = :scatter, label = \"Numerical\")\n",
    "#savefig(\"Abscissa_of_Networks.pdf\")"
   ]
  },
  {
   "cell_type": "code",
   "execution_count": 27,
   "metadata": {},
   "outputs": [
    {
     "ename": "LoadError",
     "evalue": "PyError ($(Expr(:escape, :(ccall(#= /Users/niallrodgers/.julia/packages/PyCall/7a7w0/src/pyfncall.jl:43 =# @pysym(:PyObject_Call), PyPtr, (PyPtr, PyPtr, PyPtr), o, pyargsptr, kw))))) <class 'AttributeError'>\nAttributeError(\"'Line2D' object has no property 'ylabel'\")\n  File \"/Users/niallrodgers/.julia/conda/3/lib/python3.9/site-packages/matplotlib/pyplot.py\", line 2840, in plot\n    return gca().plot(\n  File \"/Users/niallrodgers/.julia/conda/3/lib/python3.9/site-packages/matplotlib/axes/_axes.py\", line 1743, in plot\n    lines = [*self._get_lines(*args, data=data, **kwargs)]\n  File \"/Users/niallrodgers/.julia/conda/3/lib/python3.9/site-packages/matplotlib/axes/_base.py\", line 273, in __call__\n    yield from self._plot_args(this, kwargs)\n  File \"/Users/niallrodgers/.julia/conda/3/lib/python3.9/site-packages/matplotlib/axes/_base.py\", line 418, in _plot_args\n    return [func(x[:, j % ncx], y[:, j % ncy], kw, kwargs)\n  File \"/Users/niallrodgers/.julia/conda/3/lib/python3.9/site-packages/matplotlib/axes/_base.py\", line 418, in <listcomp>\n    return [func(x[:, j % ncx], y[:, j % ncy], kw, kwargs)\n  File \"/Users/niallrodgers/.julia/conda/3/lib/python3.9/site-packages/matplotlib/axes/_base.py\", line 312, in _makeline\n    seg = mlines.Line2D(x, y, **kw)\n  File \"/Users/niallrodgers/.julia/conda/3/lib/python3.9/site-packages/matplotlib/lines.py\", line 390, in __init__\n    self.update(kwargs)\n  File \"/Users/niallrodgers/.julia/conda/3/lib/python3.9/site-packages/matplotlib/artist.py\", line 996, in update\n    raise AttributeError(f\"{type(self).__name__!r} object \"\n",
     "output_type": "error",
     "traceback": [
      "PyError ($(Expr(:escape, :(ccall(#= /Users/niallrodgers/.julia/packages/PyCall/7a7w0/src/pyfncall.jl:43 =# @pysym(:PyObject_Call), PyPtr, (PyPtr, PyPtr, PyPtr), o, pyargsptr, kw))))) <class 'AttributeError'>\nAttributeError(\"'Line2D' object has no property 'ylabel'\")\n  File \"/Users/niallrodgers/.julia/conda/3/lib/python3.9/site-packages/matplotlib/pyplot.py\", line 2840, in plot\n    return gca().plot(\n  File \"/Users/niallrodgers/.julia/conda/3/lib/python3.9/site-packages/matplotlib/axes/_axes.py\", line 1743, in plot\n    lines = [*self._get_lines(*args, data=data, **kwargs)]\n  File \"/Users/niallrodgers/.julia/conda/3/lib/python3.9/site-packages/matplotlib/axes/_base.py\", line 273, in __call__\n    yield from self._plot_args(this, kwargs)\n  File \"/Users/niallrodgers/.julia/conda/3/lib/python3.9/site-packages/matplotlib/axes/_base.py\", line 418, in _plot_args\n    return [func(x[:, j % ncx], y[:, j % ncy], kw, kwargs)\n  File \"/Users/niallrodgers/.julia/conda/3/lib/python3.9/site-packages/matplotlib/axes/_base.py\", line 418, in <listcomp>\n    return [func(x[:, j % ncx], y[:, j % ncy], kw, kwargs)\n  File \"/Users/niallrodgers/.julia/conda/3/lib/python3.9/site-packages/matplotlib/axes/_base.py\", line 312, in _makeline\n    seg = mlines.Line2D(x, y, **kw)\n  File \"/Users/niallrodgers/.julia/conda/3/lib/python3.9/site-packages/matplotlib/lines.py\", line 390, in __init__\n    self.update(kwargs)\n  File \"/Users/niallrodgers/.julia/conda/3/lib/python3.9/site-packages/matplotlib/artist.py\", line 996, in update\n    raise AttributeError(f\"{type(self).__name__!r} object \"\n",
      "",
      "Stacktrace:",
      "  [1] pyerr_check",
      "    @ ~/.julia/packages/PyCall/7a7w0/src/exception.jl:62 [inlined]",
      "  [2] pyerr_check",
      "    @ ~/.julia/packages/PyCall/7a7w0/src/exception.jl:66 [inlined]",
      "  [3] _handle_error(msg::String)",
      "    @ PyCall ~/.julia/packages/PyCall/7a7w0/src/exception.jl:83",
      "  [4] macro expansion",
      "    @ ~/.julia/packages/PyCall/7a7w0/src/exception.jl:97 [inlined]",
      "  [5] #107",
      "    @ ~/.julia/packages/PyCall/7a7w0/src/pyfncall.jl:43 [inlined]",
      "  [6] disable_sigint",
      "    @ ./c.jl:458 [inlined]",
      "  [7] __pycall!",
      "    @ ~/.julia/packages/PyCall/7a7w0/src/pyfncall.jl:42 [inlined]",
      "  [8] _pycall!(ret::PyCall.PyObject, o::PyCall.PyObject, args::Tuple{Vector{Float64}, Vector{Float64}}, nargs::Int64, kw::PyCall.PyObject)",
      "    @ PyCall ~/.julia/packages/PyCall/7a7w0/src/pyfncall.jl:29",
      "  [9] _pycall!(ret::PyCall.PyObject, o::PyCall.PyObject, args::Tuple{Vector{Float64}, Vector{Float64}}, kwargs::Base.Iterators.Pairs{Symbol, Any, NTuple{5, Symbol}, NamedTuple{(:seriestype, :legend, :xlabel, :ylabel, :title), Tuple{Symbol, Bool, String, String, String}}})",
      "    @ PyCall ~/.julia/packages/PyCall/7a7w0/src/pyfncall.jl:11",
      " [10] pycall(::PyCall.PyObject, ::Type{PyCall.PyAny}, ::Vector{Float64}, ::Vararg{Vector{Float64}, N} where N; kwargs::Base.Iterators.Pairs{Symbol, Any, NTuple{5, Symbol}, NamedTuple{(:seriestype, :legend, :xlabel, :ylabel, :title), Tuple{Symbol, Bool, String, String, String}}})",
      "    @ PyCall ~/.julia/packages/PyCall/7a7w0/src/pyfncall.jl:83",
      " [11] plot(::Vector{Float64}, ::Vararg{Vector{Float64}, N} where N; kws::Base.Iterators.Pairs{Symbol, Any, NTuple{5, Symbol}, NamedTuple{(:seriestype, :legend, :xlabel, :ylabel, :title), Tuple{Symbol, Bool, String, String, String}}})",
      "    @ PyPlot ~/.julia/packages/PyPlot/XaELc/src/PyPlot.jl:177",
      " [12] top-level scope",
      "    @ In[27]:1",
      " [13] eval",
      "    @ ./boot.jl:360 [inlined]",
      " [14] include_string(mapexpr::typeof(REPL.softscope), mod::Module, code::String, filename::String)",
      "    @ Base ./loading.jl:1094"
     ]
    }
   ],
   "source": [
    "plot(F_list, eig_list_num_abs -eig_list , seriestype = :scatter, legend = false, xlabel= \"Trophic Incoherence\",\n",
    "\n",
    "ylabel=\"Numerical\n",
    "Abscissa Minus Spectral Radius\", title= \"Measures of Non-Normality\")\n",
    "#savefig(\"Difference_of__Abscissa_of_Networks.pdf\")"
   ]
  },
  {
   "cell_type": "code",
   "execution_count": 28,
   "metadata": {},
   "outputs": [
    {
     "ename": "LoadError",
     "evalue": "PyError ($(Expr(:escape, :(ccall(#= /Users/niallrodgers/.julia/packages/PyCall/7a7w0/src/pyfncall.jl:43 =# @pysym(:PyObject_Call), PyPtr, (PyPtr, PyPtr, PyPtr), o, pyargsptr, kw))))) <class 'AttributeError'>\nAttributeError(\"'Line2D' object has no property 'ylabel'\")\n  File \"/Users/niallrodgers/.julia/conda/3/lib/python3.9/site-packages/matplotlib/pyplot.py\", line 2840, in plot\n    return gca().plot(\n  File \"/Users/niallrodgers/.julia/conda/3/lib/python3.9/site-packages/matplotlib/axes/_axes.py\", line 1743, in plot\n    lines = [*self._get_lines(*args, data=data, **kwargs)]\n  File \"/Users/niallrodgers/.julia/conda/3/lib/python3.9/site-packages/matplotlib/axes/_base.py\", line 273, in __call__\n    yield from self._plot_args(this, kwargs)\n  File \"/Users/niallrodgers/.julia/conda/3/lib/python3.9/site-packages/matplotlib/axes/_base.py\", line 418, in _plot_args\n    return [func(x[:, j % ncx], y[:, j % ncy], kw, kwargs)\n  File \"/Users/niallrodgers/.julia/conda/3/lib/python3.9/site-packages/matplotlib/axes/_base.py\", line 418, in <listcomp>\n    return [func(x[:, j % ncx], y[:, j % ncy], kw, kwargs)\n  File \"/Users/niallrodgers/.julia/conda/3/lib/python3.9/site-packages/matplotlib/axes/_base.py\", line 312, in _makeline\n    seg = mlines.Line2D(x, y, **kw)\n  File \"/Users/niallrodgers/.julia/conda/3/lib/python3.9/site-packages/matplotlib/lines.py\", line 390, in __init__\n    self.update(kwargs)\n  File \"/Users/niallrodgers/.julia/conda/3/lib/python3.9/site-packages/matplotlib/artist.py\", line 996, in update\n    raise AttributeError(f\"{type(self).__name__!r} object \"\n",
     "output_type": "error",
     "traceback": [
      "PyError ($(Expr(:escape, :(ccall(#= /Users/niallrodgers/.julia/packages/PyCall/7a7w0/src/pyfncall.jl:43 =# @pysym(:PyObject_Call), PyPtr, (PyPtr, PyPtr, PyPtr), o, pyargsptr, kw))))) <class 'AttributeError'>\nAttributeError(\"'Line2D' object has no property 'ylabel'\")\n  File \"/Users/niallrodgers/.julia/conda/3/lib/python3.9/site-packages/matplotlib/pyplot.py\", line 2840, in plot\n    return gca().plot(\n  File \"/Users/niallrodgers/.julia/conda/3/lib/python3.9/site-packages/matplotlib/axes/_axes.py\", line 1743, in plot\n    lines = [*self._get_lines(*args, data=data, **kwargs)]\n  File \"/Users/niallrodgers/.julia/conda/3/lib/python3.9/site-packages/matplotlib/axes/_base.py\", line 273, in __call__\n    yield from self._plot_args(this, kwargs)\n  File \"/Users/niallrodgers/.julia/conda/3/lib/python3.9/site-packages/matplotlib/axes/_base.py\", line 418, in _plot_args\n    return [func(x[:, j % ncx], y[:, j % ncy], kw, kwargs)\n  File \"/Users/niallrodgers/.julia/conda/3/lib/python3.9/site-packages/matplotlib/axes/_base.py\", line 418, in <listcomp>\n    return [func(x[:, j % ncx], y[:, j % ncy], kw, kwargs)\n  File \"/Users/niallrodgers/.julia/conda/3/lib/python3.9/site-packages/matplotlib/axes/_base.py\", line 312, in _makeline\n    seg = mlines.Line2D(x, y, **kw)\n  File \"/Users/niallrodgers/.julia/conda/3/lib/python3.9/site-packages/matplotlib/lines.py\", line 390, in __init__\n    self.update(kwargs)\n  File \"/Users/niallrodgers/.julia/conda/3/lib/python3.9/site-packages/matplotlib/artist.py\", line 996, in update\n    raise AttributeError(f\"{type(self).__name__!r} object \"\n",
      "",
      "Stacktrace:",
      "  [1] pyerr_check",
      "    @ ~/.julia/packages/PyCall/7a7w0/src/exception.jl:62 [inlined]",
      "  [2] pyerr_check",
      "    @ ~/.julia/packages/PyCall/7a7w0/src/exception.jl:66 [inlined]",
      "  [3] _handle_error(msg::String)",
      "    @ PyCall ~/.julia/packages/PyCall/7a7w0/src/exception.jl:83",
      "  [4] macro expansion",
      "    @ ~/.julia/packages/PyCall/7a7w0/src/exception.jl:97 [inlined]",
      "  [5] #107",
      "    @ ~/.julia/packages/PyCall/7a7w0/src/pyfncall.jl:43 [inlined]",
      "  [6] disable_sigint",
      "    @ ./c.jl:458 [inlined]",
      "  [7] __pycall!",
      "    @ ~/.julia/packages/PyCall/7a7w0/src/pyfncall.jl:42 [inlined]",
      "  [8] _pycall!(ret::PyCall.PyObject, o::PyCall.PyObject, args::Tuple{Vector{Float64}, Vector{Float64}}, nargs::Int64, kw::PyCall.PyObject)",
      "    @ PyCall ~/.julia/packages/PyCall/7a7w0/src/pyfncall.jl:29",
      "  [9] _pycall!(ret::PyCall.PyObject, o::PyCall.PyObject, args::Tuple{Vector{Float64}, Vector{Float64}}, kwargs::Base.Iterators.Pairs{Symbol, Any, NTuple{6, Symbol}, NamedTuple{(:seriestype, :legend, :xlabel, :ylabel, :title, :label), Tuple{Symbol, Bool, String, String, String, String}}})",
      "    @ PyCall ~/.julia/packages/PyCall/7a7w0/src/pyfncall.jl:11",
      " [10] pycall(::PyCall.PyObject, ::Type{PyCall.PyAny}, ::Vector{Float64}, ::Vararg{Vector{Float64}, N} where N; kwargs::Base.Iterators.Pairs{Symbol, Any, NTuple{6, Symbol}, NamedTuple{(:seriestype, :legend, :xlabel, :ylabel, :title, :label), Tuple{Symbol, Bool, String, String, String, String}}})",
      "    @ PyCall ~/.julia/packages/PyCall/7a7w0/src/pyfncall.jl:83",
      " [11] plot(::Vector{Float64}, ::Vararg{Vector{Float64}, N} where N; kws::Base.Iterators.Pairs{Symbol, Any, NTuple{6, Symbol}, NamedTuple{(:seriestype, :legend, :xlabel, :ylabel, :title, :label), Tuple{Symbol, Bool, String, String, String, String}}})",
      "    @ PyPlot ~/.julia/packages/PyPlot/XaELc/src/PyPlot.jl:177",
      " [12] top-level scope",
      "    @ In[28]:1",
      " [13] eval",
      "    @ ./boot.jl:360 [inlined]",
      " [14] include_string(mapexpr::typeof(REPL.softscope), mod::Module, code::String, filename::String)",
      "    @ Base ./loading.jl:1094"
     ]
    }
   ],
   "source": [
    "plot(F_list, h_max_list, seriestype = :scatter, legend = false, xlabel= \"Trophic Incoherence\",\n",
    "\n",
    "ylabel=\"Maximum Trophic Level with min at zero\", title= \"Level Distrubution\", label= \"Spectral\" )\n",
    "\n",
    "#savefig(\"Maximum_Level_Numerical_Networks.pdf\")\n",
    "\n"
   ]
  },
  {
   "cell_type": "code",
   "execution_count": 29,
   "metadata": {},
   "outputs": [
    {
     "ename": "LoadError",
     "evalue": "PyError ($(Expr(:escape, :(ccall(#= /Users/niallrodgers/.julia/packages/PyCall/7a7w0/src/pyfncall.jl:43 =# @pysym(:PyObject_Call), PyPtr, (PyPtr, PyPtr, PyPtr), o, pyargsptr, kw))))) <class 'AttributeError'>\nAttributeError(\"'Line2D' object has no property 'ylabel'\")\n  File \"/Users/niallrodgers/.julia/conda/3/lib/python3.9/site-packages/matplotlib/pyplot.py\", line 2840, in plot\n    return gca().plot(\n  File \"/Users/niallrodgers/.julia/conda/3/lib/python3.9/site-packages/matplotlib/axes/_axes.py\", line 1743, in plot\n    lines = [*self._get_lines(*args, data=data, **kwargs)]\n  File \"/Users/niallrodgers/.julia/conda/3/lib/python3.9/site-packages/matplotlib/axes/_base.py\", line 273, in __call__\n    yield from self._plot_args(this, kwargs)\n  File \"/Users/niallrodgers/.julia/conda/3/lib/python3.9/site-packages/matplotlib/axes/_base.py\", line 418, in _plot_args\n    return [func(x[:, j % ncx], y[:, j % ncy], kw, kwargs)\n  File \"/Users/niallrodgers/.julia/conda/3/lib/python3.9/site-packages/matplotlib/axes/_base.py\", line 418, in <listcomp>\n    return [func(x[:, j % ncx], y[:, j % ncy], kw, kwargs)\n  File \"/Users/niallrodgers/.julia/conda/3/lib/python3.9/site-packages/matplotlib/axes/_base.py\", line 312, in _makeline\n    seg = mlines.Line2D(x, y, **kw)\n  File \"/Users/niallrodgers/.julia/conda/3/lib/python3.9/site-packages/matplotlib/lines.py\", line 390, in __init__\n    self.update(kwargs)\n  File \"/Users/niallrodgers/.julia/conda/3/lib/python3.9/site-packages/matplotlib/artist.py\", line 996, in update\n    raise AttributeError(f\"{type(self).__name__!r} object \"\n",
     "output_type": "error",
     "traceback": [
      "PyError ($(Expr(:escape, :(ccall(#= /Users/niallrodgers/.julia/packages/PyCall/7a7w0/src/pyfncall.jl:43 =# @pysym(:PyObject_Call), PyPtr, (PyPtr, PyPtr, PyPtr), o, pyargsptr, kw))))) <class 'AttributeError'>\nAttributeError(\"'Line2D' object has no property 'ylabel'\")\n  File \"/Users/niallrodgers/.julia/conda/3/lib/python3.9/site-packages/matplotlib/pyplot.py\", line 2840, in plot\n    return gca().plot(\n  File \"/Users/niallrodgers/.julia/conda/3/lib/python3.9/site-packages/matplotlib/axes/_axes.py\", line 1743, in plot\n    lines = [*self._get_lines(*args, data=data, **kwargs)]\n  File \"/Users/niallrodgers/.julia/conda/3/lib/python3.9/site-packages/matplotlib/axes/_base.py\", line 273, in __call__\n    yield from self._plot_args(this, kwargs)\n  File \"/Users/niallrodgers/.julia/conda/3/lib/python3.9/site-packages/matplotlib/axes/_base.py\", line 418, in _plot_args\n    return [func(x[:, j % ncx], y[:, j % ncy], kw, kwargs)\n  File \"/Users/niallrodgers/.julia/conda/3/lib/python3.9/site-packages/matplotlib/axes/_base.py\", line 418, in <listcomp>\n    return [func(x[:, j % ncx], y[:, j % ncy], kw, kwargs)\n  File \"/Users/niallrodgers/.julia/conda/3/lib/python3.9/site-packages/matplotlib/axes/_base.py\", line 312, in _makeline\n    seg = mlines.Line2D(x, y, **kw)\n  File \"/Users/niallrodgers/.julia/conda/3/lib/python3.9/site-packages/matplotlib/lines.py\", line 390, in __init__\n    self.update(kwargs)\n  File \"/Users/niallrodgers/.julia/conda/3/lib/python3.9/site-packages/matplotlib/artist.py\", line 996, in update\n    raise AttributeError(f\"{type(self).__name__!r} object \"\n",
      "",
      "Stacktrace:",
      "  [1] pyerr_check",
      "    @ ~/.julia/packages/PyCall/7a7w0/src/exception.jl:62 [inlined]",
      "  [2] pyerr_check",
      "    @ ~/.julia/packages/PyCall/7a7w0/src/exception.jl:66 [inlined]",
      "  [3] _handle_error(msg::String)",
      "    @ PyCall ~/.julia/packages/PyCall/7a7w0/src/exception.jl:83",
      "  [4] macro expansion",
      "    @ ~/.julia/packages/PyCall/7a7w0/src/exception.jl:97 [inlined]",
      "  [5] #107",
      "    @ ~/.julia/packages/PyCall/7a7w0/src/pyfncall.jl:43 [inlined]",
      "  [6] disable_sigint",
      "    @ ./c.jl:458 [inlined]",
      "  [7] __pycall!",
      "    @ ~/.julia/packages/PyCall/7a7w0/src/pyfncall.jl:42 [inlined]",
      "  [8] _pycall!(ret::PyCall.PyObject, o::PyCall.PyObject, args::Tuple{Vector{Float64}, Vector{Float64}}, nargs::Int64, kw::PyCall.PyObject)",
      "    @ PyCall ~/.julia/packages/PyCall/7a7w0/src/pyfncall.jl:29",
      "  [9] _pycall!(ret::PyCall.PyObject, o::PyCall.PyObject, args::Tuple{Vector{Float64}, Vector{Float64}}, kwargs::Base.Iterators.Pairs{Symbol, Any, NTuple{6, Symbol}, NamedTuple{(:seriestype, :legend, :xlabel, :ylabel, :title, :label), Tuple{Symbol, Symbol, String, String, String, String}}})",
      "    @ PyCall ~/.julia/packages/PyCall/7a7w0/src/pyfncall.jl:11",
      " [10] pycall(::PyCall.PyObject, ::Type{PyCall.PyAny}, ::Vector{Float64}, ::Vararg{Vector{Float64}, N} where N; kwargs::Base.Iterators.Pairs{Symbol, Any, NTuple{6, Symbol}, NamedTuple{(:seriestype, :legend, :xlabel, :ylabel, :title, :label), Tuple{Symbol, Symbol, String, String, String, String}}})",
      "    @ PyCall ~/.julia/packages/PyCall/7a7w0/src/pyfncall.jl:83",
      " [11] plot(::Vector{Float64}, ::Vararg{Vector{Float64}, N} where N; kws::Base.Iterators.Pairs{Symbol, Any, NTuple{6, Symbol}, NamedTuple{(:seriestype, :legend, :xlabel, :ylabel, :title, :label), Tuple{Symbol, Symbol, String, String, String, String}}})",
      "    @ PyPlot ~/.julia/packages/PyPlot/XaELc/src/PyPlot.jl:177",
      " [12] top-level scope",
      "    @ In[29]:1",
      " [13] eval",
      "    @ ./boot.jl:360 [inlined]",
      " [14] include_string(mapexpr::typeof(REPL.softscope), mod::Module, code::String, filename::String)",
      "    @ Base ./loading.jl:1094"
     ]
    }
   ],
   "source": [
    "plot(F_list, scale_spec_list, seriestype = :scatter, legend = :bottomright, xlabel= \"Trophic Incoherence\",\n",
    "\n",
    "ylabel=\"Scaled Spectral Radius\", title= \"Spectral Properties\", label= \"Networks Generated\" )\n",
    "\n",
    "F_plot= LinRange(0, 1, 1000)\n",
    "\n",
    "plot!(F_plot,  exp.(((1 .- 1 ./ F_plot))/2), label= \"exp((1 - 1/F)/2)\", lw=3)\n",
    "\n",
    "#savefig(\"scaled_spec_radius_good.pdf\")"
   ]
  },
  {
   "cell_type": "code",
   "execution_count": 30,
   "metadata": {},
   "outputs": [
    {
     "ename": "LoadError",
     "evalue": "PyError ($(Expr(:escape, :(ccall(#= /Users/niallrodgers/.julia/packages/PyCall/7a7w0/src/pyfncall.jl:43 =# @pysym(:PyObject_Call), PyPtr, (PyPtr, PyPtr, PyPtr), o, pyargsptr, kw))))) <class 'AttributeError'>\nAttributeError(\"'Line2D' object has no property 'ylabel'\")\n  File \"/Users/niallrodgers/.julia/conda/3/lib/python3.9/site-packages/matplotlib/pyplot.py\", line 2840, in plot\n    return gca().plot(\n  File \"/Users/niallrodgers/.julia/conda/3/lib/python3.9/site-packages/matplotlib/axes/_axes.py\", line 1743, in plot\n    lines = [*self._get_lines(*args, data=data, **kwargs)]\n  File \"/Users/niallrodgers/.julia/conda/3/lib/python3.9/site-packages/matplotlib/axes/_base.py\", line 273, in __call__\n    yield from self._plot_args(this, kwargs)\n  File \"/Users/niallrodgers/.julia/conda/3/lib/python3.9/site-packages/matplotlib/axes/_base.py\", line 418, in _plot_args\n    return [func(x[:, j % ncx], y[:, j % ncy], kw, kwargs)\n  File \"/Users/niallrodgers/.julia/conda/3/lib/python3.9/site-packages/matplotlib/axes/_base.py\", line 418, in <listcomp>\n    return [func(x[:, j % ncx], y[:, j % ncy], kw, kwargs)\n  File \"/Users/niallrodgers/.julia/conda/3/lib/python3.9/site-packages/matplotlib/axes/_base.py\", line 312, in _makeline\n    seg = mlines.Line2D(x, y, **kw)\n  File \"/Users/niallrodgers/.julia/conda/3/lib/python3.9/site-packages/matplotlib/lines.py\", line 390, in __init__\n    self.update(kwargs)\n  File \"/Users/niallrodgers/.julia/conda/3/lib/python3.9/site-packages/matplotlib/artist.py\", line 996, in update\n    raise AttributeError(f\"{type(self).__name__!r} object \"\n",
     "output_type": "error",
     "traceback": [
      "PyError ($(Expr(:escape, :(ccall(#= /Users/niallrodgers/.julia/packages/PyCall/7a7w0/src/pyfncall.jl:43 =# @pysym(:PyObject_Call), PyPtr, (PyPtr, PyPtr, PyPtr), o, pyargsptr, kw))))) <class 'AttributeError'>\nAttributeError(\"'Line2D' object has no property 'ylabel'\")\n  File \"/Users/niallrodgers/.julia/conda/3/lib/python3.9/site-packages/matplotlib/pyplot.py\", line 2840, in plot\n    return gca().plot(\n  File \"/Users/niallrodgers/.julia/conda/3/lib/python3.9/site-packages/matplotlib/axes/_axes.py\", line 1743, in plot\n    lines = [*self._get_lines(*args, data=data, **kwargs)]\n  File \"/Users/niallrodgers/.julia/conda/3/lib/python3.9/site-packages/matplotlib/axes/_base.py\", line 273, in __call__\n    yield from self._plot_args(this, kwargs)\n  File \"/Users/niallrodgers/.julia/conda/3/lib/python3.9/site-packages/matplotlib/axes/_base.py\", line 418, in _plot_args\n    return [func(x[:, j % ncx], y[:, j % ncy], kw, kwargs)\n  File \"/Users/niallrodgers/.julia/conda/3/lib/python3.9/site-packages/matplotlib/axes/_base.py\", line 418, in <listcomp>\n    return [func(x[:, j % ncx], y[:, j % ncy], kw, kwargs)\n  File \"/Users/niallrodgers/.julia/conda/3/lib/python3.9/site-packages/matplotlib/axes/_base.py\", line 312, in _makeline\n    seg = mlines.Line2D(x, y, **kw)\n  File \"/Users/niallrodgers/.julia/conda/3/lib/python3.9/site-packages/matplotlib/lines.py\", line 390, in __init__\n    self.update(kwargs)\n  File \"/Users/niallrodgers/.julia/conda/3/lib/python3.9/site-packages/matplotlib/artist.py\", line 996, in update\n    raise AttributeError(f\"{type(self).__name__!r} object \"\n",
      "",
      "Stacktrace:",
      "  [1] pyerr_check",
      "    @ ~/.julia/packages/PyCall/7a7w0/src/exception.jl:62 [inlined]",
      "  [2] pyerr_check",
      "    @ ~/.julia/packages/PyCall/7a7w0/src/exception.jl:66 [inlined]",
      "  [3] _handle_error(msg::String)",
      "    @ PyCall ~/.julia/packages/PyCall/7a7w0/src/exception.jl:83",
      "  [4] macro expansion",
      "    @ ~/.julia/packages/PyCall/7a7w0/src/exception.jl:97 [inlined]",
      "  [5] #107",
      "    @ ~/.julia/packages/PyCall/7a7w0/src/pyfncall.jl:43 [inlined]",
      "  [6] disable_sigint",
      "    @ ./c.jl:458 [inlined]",
      "  [7] __pycall!",
      "    @ ~/.julia/packages/PyCall/7a7w0/src/pyfncall.jl:42 [inlined]",
      "  [8] _pycall!(ret::PyCall.PyObject, o::PyCall.PyObject, args::Tuple{Vector{Float64}, Vector{Float64}}, nargs::Int64, kw::PyCall.PyObject)",
      "    @ PyCall ~/.julia/packages/PyCall/7a7w0/src/pyfncall.jl:29",
      "  [9] _pycall!(ret::PyCall.PyObject, o::PyCall.PyObject, args::Tuple{Vector{Float64}, Vector{Float64}}, kwargs::Base.Iterators.Pairs{Symbol, Any, NTuple{6, Symbol}, NamedTuple{(:seriestype, :legend, :xlabel, :ylabel, :title, :label), Tuple{Symbol, Symbol, String, String, String, String}}})",
      "    @ PyCall ~/.julia/packages/PyCall/7a7w0/src/pyfncall.jl:11",
      " [10] pycall(::PyCall.PyObject, ::Type{PyCall.PyAny}, ::Vector{Float64}, ::Vararg{Vector{Float64}, N} where N; kwargs::Base.Iterators.Pairs{Symbol, Any, NTuple{6, Symbol}, NamedTuple{(:seriestype, :legend, :xlabel, :ylabel, :title, :label), Tuple{Symbol, Symbol, String, String, String, String}}})",
      "    @ PyCall ~/.julia/packages/PyCall/7a7w0/src/pyfncall.jl:83",
      " [11] plot(::Vector{Float64}, ::Vararg{Vector{Float64}, N} where N; kws::Base.Iterators.Pairs{Symbol, Any, NTuple{6, Symbol}, NamedTuple{(:seriestype, :legend, :xlabel, :ylabel, :title, :label), Tuple{Symbol, Symbol, String, String, String, String}}})",
      "    @ PyPlot ~/.julia/packages/PyPlot/XaELc/src/PyPlot.jl:177",
      " [12] top-level scope",
      "    @ In[30]:1",
      " [13] eval",
      "    @ ./boot.jl:360 [inlined]",
      " [14] include_string(mapexpr::typeof(REPL.softscope), mod::Module, code::String, filename::String)",
      "    @ Base ./loading.jl:1094"
     ]
    }
   ],
   "source": [
    "plot(F_list, nu_normal_list, seriestype = :scatter, legend = :bottomright, xlabel= \"Trophic Incoherence\",\n",
    "\n",
    "ylabel=\"Normality, nu\", title= \"Normality\", label= \"Networks Generated\" )\n",
    "\n",
    "\n",
    "\n",
    "plot!(F_plot,  exp.(((1 .- 1 ./ F_plot))), label= \"exp((1 - 1/F))\", lw=3)\n",
    "\n",
    "#savefig(\"nu_normlity_N=500_k=20,pdf\")"
   ]
  },
  {
   "cell_type": "code",
   "execution_count": 31,
   "metadata": {},
   "outputs": [
    {
     "ename": "LoadError",
     "evalue": "UndefVarError: greedy_color not defined",
     "output_type": "error",
     "traceback": [
      "UndefVarError: greedy_color not defined",
      "",
      "Stacktrace:",
      " [1] top-level scope",
      "   @ In[31]:1",
      " [2] eval",
      "   @ ./boot.jl:360 [inlined]",
      " [3] include_string(mapexpr::typeof(REPL.softscope), mod::Module, code::String, filename::String)",
      "   @ Base ./loading.jl:1094"
     ]
    }
   ],
   "source": [
    "greedy_color(g; sort_degree=false, reps = 10)\n"
   ]
  },
  {
   "cell_type": "code",
   "execution_count": 32,
   "metadata": {},
   "outputs": [
    {
     "ename": "LoadError",
     "evalue": "UndefVarError: path_digraph not defined",
     "output_type": "error",
     "traceback": [
      "UndefVarError: path_digraph not defined",
      "",
      "Stacktrace:",
      " [1] top-level scope",
      "   @ In[32]:1",
      " [2] eval",
      "   @ ./boot.jl:360 [inlined]",
      " [3] include_string(mapexpr::typeof(REPL.softscope), mod::Module, code::String, filename::String)",
      "   @ Base ./loading.jl:1094"
     ]
    }
   ],
   "source": [
    "g2 = path_digraph(1000)\n",
    "#add_edge!(g2, 381, 54)\n",
    "\n",
    "add_edge!(g2, 500, 300)\n",
    "\n",
    "\n",
    "\n",
    "A= (adjacency_matrix(g2))\n",
    "\n",
    "#print(A)\n",
    "e= eigvals(Matrix((A)))\n",
    "\n",
    "plot(e, seriestype = :scatter, label = false )\n",
    "\n",
    "#savefig(\"Path_with_1_short_middle_cycle_eigs_julia.pdf\")"
   ]
  },
  {
   "cell_type": "code",
   "execution_count": 33,
   "metadata": {},
   "outputs": [
    {
     "ename": "LoadError",
     "evalue": "UndefVarError: cycle_digraph not defined",
     "output_type": "error",
     "traceback": [
      "UndefVarError: cycle_digraph not defined",
      "",
      "Stacktrace:",
      " [1] top-level scope",
      "   @ In[33]:1",
      " [2] eval",
      "   @ ./boot.jl:360 [inlined]",
      " [3] include_string(mapexpr::typeof(REPL.softscope), mod::Module, code::String, filename::String)",
      "   @ Base ./loading.jl:1094"
     ]
    }
   ],
   "source": [
    "g2= cycle_digraph(1000)\n",
    "\n",
    "A= (adjacency_matrix(g2))\n",
    "\n",
    "#print(A)\n",
    "e= eigvals(Matrix((A)))\n",
    "\n",
    "plot(e, seriestype = :scatter, label = false )\n",
    "\n",
    "#savefig(\"Cyclce_eigenvalues_julia.pdf\")\n"
   ]
  },
  {
   "cell_type": "code",
   "execution_count": 34,
   "metadata": {},
   "outputs": [
    {
     "ename": "LoadError",
     "evalue": "UndefVarError: watts_strogatz not defined",
     "output_type": "error",
     "traceback": [
      "UndefVarError: watts_strogatz not defined",
      "",
      "Stacktrace:",
      " [1] top-level scope",
      "   @ In[34]:1",
      " [2] eval",
      "   @ ./boot.jl:360 [inlined]",
      " [3] include_string(mapexpr::typeof(REPL.softscope), mod::Module, code::String, filename::String)",
      "   @ Base ./loading.jl:1094"
     ]
    }
   ],
   "source": [
    "g2= watts_strogatz(1000, 10, 0.8, is_directed = true)\n",
    "\n",
    "\n",
    "A= (adjacency_matrix(g2))\n",
    "\n",
    "#print(A)\n",
    "e= eigvals(Matrix((A)))\n",
    "\n",
    "plot(e, seriestype = :scatter, label = false )\n",
    "\n",
    "\n",
    "#savefig(\"Small_world_eiges_julia_n_1000_k_10_beta_0.8.pdf\")"
   ]
  },
  {
   "cell_type": "code",
   "execution_count": 35,
   "metadata": {},
   "outputs": [
    {
     "ename": "LoadError",
     "evalue": "UndefVarError: barabasi_albert not defined",
     "output_type": "error",
     "traceback": [
      "UndefVarError: barabasi_albert not defined",
      "",
      "Stacktrace:",
      " [1] top-level scope",
      "   @ In[35]:1",
      " [2] eval",
      "   @ ./boot.jl:360 [inlined]",
      " [3] include_string(mapexpr::typeof(REPL.softscope), mod::Module, code::String, filename::String)",
      "   @ Base ./loading.jl:1094"
     ]
    }
   ],
   "source": [
    "g2= barabasi_albert(1000,  100, is_directed=true, seed=123)\n",
    "\n",
    "\n",
    "A= (adjacency_matrix(g2))\n",
    "println(A)\n",
    "#print(A)\n",
    "e= eigvals(Matrix((A)))\n",
    "print(e)\n",
    "plot(e, seriestype = :scatter, label = false )"
   ]
  },
  {
   "cell_type": "code",
   "execution_count": 36,
   "metadata": {},
   "outputs": [
    {
     "ename": "LoadError",
     "evalue": "UndefVarError: random_regular_digraph not defined",
     "output_type": "error",
     "traceback": [
      "UndefVarError: random_regular_digraph not defined",
      "",
      "Stacktrace:",
      " [1] top-level scope",
      "   @ In[36]:1",
      " [2] eval",
      "   @ ./boot.jl:360 [inlined]",
      " [3] include_string(mapexpr::typeof(REPL.softscope), mod::Module, code::String, filename::String)",
      "   @ Base ./loading.jl:1094"
     ]
    }
   ],
   "source": [
    "g2= random_regular_digraph(1000, 20)\n",
    "\n",
    "\n",
    "A= (adjacency_matrix(g2))\n",
    "\n",
    "\n",
    "e= eigvals(Matrix((A)))\n",
    "\n",
    "plot(e, seriestype = :scatter, label = false )"
   ]
  },
  {
   "cell_type": "code",
   "execution_count": 37,
   "metadata": {},
   "outputs": [
    {
     "ename": "LoadError",
     "evalue": "UndefVarError: erdos_renyi not defined",
     "output_type": "error",
     "traceback": [
      "UndefVarError: erdos_renyi not defined",
      "",
      "Stacktrace:",
      " [1] top-level scope",
      "   @ In[37]:1",
      " [2] eval",
      "   @ ./boot.jl:360 [inlined]",
      " [3] include_string(mapexpr::typeof(REPL.softscope), mod::Module, code::String, filename::String)",
      "   @ Base ./loading.jl:1094"
     ]
    }
   ],
   "source": [
    "g2= erdos_renyi(1000, 10*1000, is_directed=true)\n",
    "\n",
    "\n",
    "A= (adjacency_matrix(g2))\n",
    "\n",
    "\n",
    "e= eigvals(Matrix((A)))\n",
    "\n",
    "plot(e, seriestype = :scatter, label = false )\n",
    "\n",
    "#savefig(\"Random_graph_eigs_julia.pdf\")"
   ]
  },
  {
   "cell_type": "code",
   "execution_count": null,
   "metadata": {},
   "outputs": [],
   "source": []
  },
  {
   "cell_type": "code",
   "execution_count": null,
   "metadata": {},
   "outputs": [],
   "source": []
  },
  {
   "cell_type": "code",
   "execution_count": null,
   "metadata": {},
   "outputs": [],
   "source": []
  },
  {
   "cell_type": "code",
   "execution_count": null,
   "metadata": {},
   "outputs": [],
   "source": []
  }
 ],
 "metadata": {
  "kernelspec": {
   "display_name": "Julia 1.6.1",
   "language": "julia",
   "name": "julia-1.6"
  },
  "language_info": {
   "file_extension": ".jl",
   "mimetype": "application/julia",
   "name": "julia",
   "version": "1.6.1"
  }
 },
 "nbformat": 4,
 "nbformat_minor": 4
}
